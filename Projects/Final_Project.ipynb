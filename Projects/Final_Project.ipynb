{
 "cells": [
  {
   "cell_type": "markdown",
   "metadata": {},
   "source": [
    "# Project\n",
    "\n",
    "In this project, our aim is to building a model for predicting wine qualities. Our label will be `quality` column. **Do not forget, this is a Classification problem!**\n",
    "\n",
    "## Steps\n",
    "- Read the `winequality.csv` file and describe it.\n",
    "- Make at least 4 different analysis on Exploratory Data Analysis section.\n",
    "- Pre-process the dataset to get ready for ML application. (Check missing data and handle them, can we need to do scaling or feature extraction etc.)\n",
    "- Define appropriate evaluation metric for our case (classification).\n",
    "- Train and evaluate Decision Trees and at least 2 different appropriate algorithm which you can choose from scikit-learn library.\n",
    "- Check if is there any overfitting and underfitting. Interpret your results and try to overcome if there is any problem in a new section.\n",
    "- Create confusion metrics for each algorithm and display Accuracy, Recall, Precision and F1-Score values.\n",
    "- Analyse and compare results of 3 algorithms.\n",
    "- Select best performing model based on evaluation metric you chose on test dataset.\n",
    "\n",
    "\n",
    "Good luck :)"
   ]
  },
  {
   "cell_type": "markdown",
   "metadata": {},
   "source": [
    "<h2>Ansari Mohammed Ali Nasim</h2>"
   ]
  },
  {
   "cell_type": "markdown",
   "metadata": {},
   "source": [
    "# Data"
   ]
  },
  {
   "cell_type": "code",
   "execution_count": 1,
   "metadata": {},
   "outputs": [],
   "source": [
    "#importing necessary libraries\n",
    "import pandas as pd\n",
    "import seaborn as sns\n",
    "import numpy as np\n",
    "import matplotlib.pyplot as plt"
   ]
  },
  {
   "cell_type": "code",
   "execution_count": 2,
   "metadata": {},
   "outputs": [
    {
     "data": {
      "text/html": [
       "<div>\n",
       "<style scoped>\n",
       "    .dataframe tbody tr th:only-of-type {\n",
       "        vertical-align: middle;\n",
       "    }\n",
       "\n",
       "    .dataframe tbody tr th {\n",
       "        vertical-align: top;\n",
       "    }\n",
       "\n",
       "    .dataframe thead th {\n",
       "        text-align: right;\n",
       "    }\n",
       "</style>\n",
       "<table border=\"1\" class=\"dataframe\">\n",
       "  <thead>\n",
       "    <tr style=\"text-align: right;\">\n",
       "      <th></th>\n",
       "      <th>fixed acidity</th>\n",
       "      <th>volatile acidity</th>\n",
       "      <th>citric acid</th>\n",
       "      <th>residual sugar</th>\n",
       "      <th>chlorides</th>\n",
       "      <th>free sulfur dioxide</th>\n",
       "      <th>total sulfur dioxide</th>\n",
       "      <th>density</th>\n",
       "      <th>pH</th>\n",
       "      <th>sulphates</th>\n",
       "      <th>alcohol</th>\n",
       "      <th>quality</th>\n",
       "    </tr>\n",
       "  </thead>\n",
       "  <tbody>\n",
       "    <tr>\n",
       "      <th>0</th>\n",
       "      <td>7.4</td>\n",
       "      <td>0.70</td>\n",
       "      <td>0.00</td>\n",
       "      <td>1.9</td>\n",
       "      <td>0.076</td>\n",
       "      <td>11.0</td>\n",
       "      <td>34.0</td>\n",
       "      <td>0.9978</td>\n",
       "      <td>3.51</td>\n",
       "      <td>0.56</td>\n",
       "      <td>9.4</td>\n",
       "      <td>5</td>\n",
       "    </tr>\n",
       "    <tr>\n",
       "      <th>1</th>\n",
       "      <td>7.8</td>\n",
       "      <td>0.88</td>\n",
       "      <td>0.00</td>\n",
       "      <td>2.6</td>\n",
       "      <td>0.098</td>\n",
       "      <td>25.0</td>\n",
       "      <td>67.0</td>\n",
       "      <td>0.9968</td>\n",
       "      <td>3.20</td>\n",
       "      <td>0.68</td>\n",
       "      <td>9.8</td>\n",
       "      <td>5</td>\n",
       "    </tr>\n",
       "    <tr>\n",
       "      <th>2</th>\n",
       "      <td>7.8</td>\n",
       "      <td>0.76</td>\n",
       "      <td>0.04</td>\n",
       "      <td>2.3</td>\n",
       "      <td>0.092</td>\n",
       "      <td>15.0</td>\n",
       "      <td>54.0</td>\n",
       "      <td>0.9970</td>\n",
       "      <td>3.26</td>\n",
       "      <td>0.65</td>\n",
       "      <td>9.8</td>\n",
       "      <td>5</td>\n",
       "    </tr>\n",
       "    <tr>\n",
       "      <th>3</th>\n",
       "      <td>11.2</td>\n",
       "      <td>0.28</td>\n",
       "      <td>0.56</td>\n",
       "      <td>1.9</td>\n",
       "      <td>0.075</td>\n",
       "      <td>17.0</td>\n",
       "      <td>60.0</td>\n",
       "      <td>0.9980</td>\n",
       "      <td>3.16</td>\n",
       "      <td>0.58</td>\n",
       "      <td>9.8</td>\n",
       "      <td>6</td>\n",
       "    </tr>\n",
       "    <tr>\n",
       "      <th>4</th>\n",
       "      <td>7.4</td>\n",
       "      <td>0.70</td>\n",
       "      <td>0.00</td>\n",
       "      <td>1.9</td>\n",
       "      <td>0.076</td>\n",
       "      <td>11.0</td>\n",
       "      <td>34.0</td>\n",
       "      <td>0.9978</td>\n",
       "      <td>3.51</td>\n",
       "      <td>0.56</td>\n",
       "      <td>9.4</td>\n",
       "      <td>5</td>\n",
       "    </tr>\n",
       "  </tbody>\n",
       "</table>\n",
       "</div>"
      ],
      "text/plain": [
       "   fixed acidity  volatile acidity  citric acid  residual sugar  chlorides  \\\n",
       "0            7.4              0.70         0.00             1.9      0.076   \n",
       "1            7.8              0.88         0.00             2.6      0.098   \n",
       "2            7.8              0.76         0.04             2.3      0.092   \n",
       "3           11.2              0.28         0.56             1.9      0.075   \n",
       "4            7.4              0.70         0.00             1.9      0.076   \n",
       "\n",
       "   free sulfur dioxide  total sulfur dioxide  density    pH  sulphates  \\\n",
       "0                 11.0                  34.0   0.9978  3.51       0.56   \n",
       "1                 25.0                  67.0   0.9968  3.20       0.68   \n",
       "2                 15.0                  54.0   0.9970  3.26       0.65   \n",
       "3                 17.0                  60.0   0.9980  3.16       0.58   \n",
       "4                 11.0                  34.0   0.9978  3.51       0.56   \n",
       "\n",
       "   alcohol  quality  \n",
       "0      9.4        5  \n",
       "1      9.8        5  \n",
       "2      9.8        5  \n",
       "3      9.8        6  \n",
       "4      9.4        5  "
      ]
     },
     "execution_count": 2,
     "metadata": {},
     "output_type": "execute_result"
    }
   ],
   "source": [
    "#loading datasets\n",
    "df=pd.read_csv('winequality.csv')\n",
    "\n",
    "df.head()"
   ]
  },
  {
   "cell_type": "code",
   "execution_count": 3,
   "metadata": {},
   "outputs": [
    {
     "data": {
      "text/html": [
       "<div>\n",
       "<style scoped>\n",
       "    .dataframe tbody tr th:only-of-type {\n",
       "        vertical-align: middle;\n",
       "    }\n",
       "\n",
       "    .dataframe tbody tr th {\n",
       "        vertical-align: top;\n",
       "    }\n",
       "\n",
       "    .dataframe thead th {\n",
       "        text-align: right;\n",
       "    }\n",
       "</style>\n",
       "<table border=\"1\" class=\"dataframe\">\n",
       "  <thead>\n",
       "    <tr style=\"text-align: right;\">\n",
       "      <th></th>\n",
       "      <th>fixed acidity</th>\n",
       "      <th>volatile acidity</th>\n",
       "      <th>citric acid</th>\n",
       "      <th>residual sugar</th>\n",
       "      <th>chlorides</th>\n",
       "      <th>free sulfur dioxide</th>\n",
       "      <th>total sulfur dioxide</th>\n",
       "      <th>density</th>\n",
       "      <th>pH</th>\n",
       "      <th>sulphates</th>\n",
       "      <th>alcohol</th>\n",
       "      <th>quality</th>\n",
       "    </tr>\n",
       "  </thead>\n",
       "  <tbody>\n",
       "    <tr>\n",
       "      <th>count</th>\n",
       "      <td>1599.000000</td>\n",
       "      <td>1599.000000</td>\n",
       "      <td>1599.000000</td>\n",
       "      <td>1599.000000</td>\n",
       "      <td>1599.000000</td>\n",
       "      <td>1599.000000</td>\n",
       "      <td>1599.000000</td>\n",
       "      <td>1599.000000</td>\n",
       "      <td>1599.000000</td>\n",
       "      <td>1599.000000</td>\n",
       "      <td>1599.000000</td>\n",
       "      <td>1599.000000</td>\n",
       "    </tr>\n",
       "    <tr>\n",
       "      <th>mean</th>\n",
       "      <td>8.319637</td>\n",
       "      <td>0.527821</td>\n",
       "      <td>0.270976</td>\n",
       "      <td>2.538806</td>\n",
       "      <td>0.087467</td>\n",
       "      <td>15.874922</td>\n",
       "      <td>46.467792</td>\n",
       "      <td>0.996747</td>\n",
       "      <td>3.311113</td>\n",
       "      <td>0.658149</td>\n",
       "      <td>10.422983</td>\n",
       "      <td>5.636023</td>\n",
       "    </tr>\n",
       "    <tr>\n",
       "      <th>std</th>\n",
       "      <td>1.741096</td>\n",
       "      <td>0.179060</td>\n",
       "      <td>0.194801</td>\n",
       "      <td>1.409928</td>\n",
       "      <td>0.047065</td>\n",
       "      <td>10.460157</td>\n",
       "      <td>32.895324</td>\n",
       "      <td>0.001887</td>\n",
       "      <td>0.154386</td>\n",
       "      <td>0.169507</td>\n",
       "      <td>1.065668</td>\n",
       "      <td>0.807569</td>\n",
       "    </tr>\n",
       "    <tr>\n",
       "      <th>min</th>\n",
       "      <td>4.600000</td>\n",
       "      <td>0.120000</td>\n",
       "      <td>0.000000</td>\n",
       "      <td>0.900000</td>\n",
       "      <td>0.012000</td>\n",
       "      <td>1.000000</td>\n",
       "      <td>6.000000</td>\n",
       "      <td>0.990070</td>\n",
       "      <td>2.740000</td>\n",
       "      <td>0.330000</td>\n",
       "      <td>8.400000</td>\n",
       "      <td>3.000000</td>\n",
       "    </tr>\n",
       "    <tr>\n",
       "      <th>25%</th>\n",
       "      <td>7.100000</td>\n",
       "      <td>0.390000</td>\n",
       "      <td>0.090000</td>\n",
       "      <td>1.900000</td>\n",
       "      <td>0.070000</td>\n",
       "      <td>7.000000</td>\n",
       "      <td>22.000000</td>\n",
       "      <td>0.995600</td>\n",
       "      <td>3.210000</td>\n",
       "      <td>0.550000</td>\n",
       "      <td>9.500000</td>\n",
       "      <td>5.000000</td>\n",
       "    </tr>\n",
       "    <tr>\n",
       "      <th>50%</th>\n",
       "      <td>7.900000</td>\n",
       "      <td>0.520000</td>\n",
       "      <td>0.260000</td>\n",
       "      <td>2.200000</td>\n",
       "      <td>0.079000</td>\n",
       "      <td>14.000000</td>\n",
       "      <td>38.000000</td>\n",
       "      <td>0.996750</td>\n",
       "      <td>3.310000</td>\n",
       "      <td>0.620000</td>\n",
       "      <td>10.200000</td>\n",
       "      <td>6.000000</td>\n",
       "    </tr>\n",
       "    <tr>\n",
       "      <th>75%</th>\n",
       "      <td>9.200000</td>\n",
       "      <td>0.640000</td>\n",
       "      <td>0.420000</td>\n",
       "      <td>2.600000</td>\n",
       "      <td>0.090000</td>\n",
       "      <td>21.000000</td>\n",
       "      <td>62.000000</td>\n",
       "      <td>0.997835</td>\n",
       "      <td>3.400000</td>\n",
       "      <td>0.730000</td>\n",
       "      <td>11.100000</td>\n",
       "      <td>6.000000</td>\n",
       "    </tr>\n",
       "    <tr>\n",
       "      <th>max</th>\n",
       "      <td>15.900000</td>\n",
       "      <td>1.580000</td>\n",
       "      <td>1.000000</td>\n",
       "      <td>15.500000</td>\n",
       "      <td>0.611000</td>\n",
       "      <td>72.000000</td>\n",
       "      <td>289.000000</td>\n",
       "      <td>1.003690</td>\n",
       "      <td>4.010000</td>\n",
       "      <td>2.000000</td>\n",
       "      <td>14.900000</td>\n",
       "      <td>8.000000</td>\n",
       "    </tr>\n",
       "  </tbody>\n",
       "</table>\n",
       "</div>"
      ],
      "text/plain": [
       "       fixed acidity  volatile acidity  citric acid  residual sugar  \\\n",
       "count    1599.000000       1599.000000  1599.000000     1599.000000   \n",
       "mean        8.319637          0.527821     0.270976        2.538806   \n",
       "std         1.741096          0.179060     0.194801        1.409928   \n",
       "min         4.600000          0.120000     0.000000        0.900000   \n",
       "25%         7.100000          0.390000     0.090000        1.900000   \n",
       "50%         7.900000          0.520000     0.260000        2.200000   \n",
       "75%         9.200000          0.640000     0.420000        2.600000   \n",
       "max        15.900000          1.580000     1.000000       15.500000   \n",
       "\n",
       "         chlorides  free sulfur dioxide  total sulfur dioxide      density  \\\n",
       "count  1599.000000          1599.000000           1599.000000  1599.000000   \n",
       "mean      0.087467            15.874922             46.467792     0.996747   \n",
       "std       0.047065            10.460157             32.895324     0.001887   \n",
       "min       0.012000             1.000000              6.000000     0.990070   \n",
       "25%       0.070000             7.000000             22.000000     0.995600   \n",
       "50%       0.079000            14.000000             38.000000     0.996750   \n",
       "75%       0.090000            21.000000             62.000000     0.997835   \n",
       "max       0.611000            72.000000            289.000000     1.003690   \n",
       "\n",
       "                pH    sulphates      alcohol      quality  \n",
       "count  1599.000000  1599.000000  1599.000000  1599.000000  \n",
       "mean      3.311113     0.658149    10.422983     5.636023  \n",
       "std       0.154386     0.169507     1.065668     0.807569  \n",
       "min       2.740000     0.330000     8.400000     3.000000  \n",
       "25%       3.210000     0.550000     9.500000     5.000000  \n",
       "50%       3.310000     0.620000    10.200000     6.000000  \n",
       "75%       3.400000     0.730000    11.100000     6.000000  \n",
       "max       4.010000     2.000000    14.900000     8.000000  "
      ]
     },
     "execution_count": 3,
     "metadata": {},
     "output_type": "execute_result"
    }
   ],
   "source": [
    "# Describe our data for each feature and use .info() for get information about our dataset\n",
    "df.describe()"
   ]
  },
  {
   "cell_type": "code",
   "execution_count": 4,
   "metadata": {},
   "outputs": [
    {
     "name": "stdout",
     "output_type": "stream",
     "text": [
      "<class 'pandas.core.frame.DataFrame'>\n",
      "RangeIndex: 1599 entries, 0 to 1598\n",
      "Data columns (total 12 columns):\n",
      " #   Column                Non-Null Count  Dtype  \n",
      "---  ------                --------------  -----  \n",
      " 0   fixed acidity         1599 non-null   float64\n",
      " 1   volatile acidity      1599 non-null   float64\n",
      " 2   citric acid           1599 non-null   float64\n",
      " 3   residual sugar        1599 non-null   float64\n",
      " 4   chlorides             1599 non-null   float64\n",
      " 5   free sulfur dioxide   1599 non-null   float64\n",
      " 6   total sulfur dioxide  1599 non-null   float64\n",
      " 7   density               1599 non-null   float64\n",
      " 8   pH                    1599 non-null   float64\n",
      " 9   sulphates             1599 non-null   float64\n",
      " 10  alcohol               1599 non-null   float64\n",
      " 11  quality               1599 non-null   int64  \n",
      "dtypes: float64(11), int64(1)\n",
      "memory usage: 150.0 KB\n"
     ]
    }
   ],
   "source": [
    "df.info()"
   ]
  },
  {
   "cell_type": "code",
   "execution_count": 5,
   "metadata": {},
   "outputs": [
    {
     "data": {
      "text/plain": [
       "fixed acidity           0\n",
       "volatile acidity        0\n",
       "citric acid             0\n",
       "residual sugar          0\n",
       "chlorides               0\n",
       "free sulfur dioxide     0\n",
       "total sulfur dioxide    0\n",
       "density                 0\n",
       "pH                      0\n",
       "sulphates               0\n",
       "alcohol                 0\n",
       "quality                 0\n",
       "dtype: int64"
      ]
     },
     "execution_count": 5,
     "metadata": {},
     "output_type": "execute_result"
    }
   ],
   "source": [
    "# Analyse missing values\n",
    "df.isnull().sum()"
   ]
  },
  {
   "cell_type": "markdown",
   "metadata": {},
   "source": [
    "# Exploratory Data Analysis"
   ]
  },
  {
   "cell_type": "code",
   "execution_count": 6,
   "metadata": {},
   "outputs": [
    {
     "data": {
      "text/plain": [
       "<AxesSubplot:xlabel='quality', ylabel='count'>"
      ]
     },
     "execution_count": 6,
     "metadata": {},
     "output_type": "execute_result"
    },
    {
     "data": {
      "image/png": "[encoded data removed]",
      "text/plain": [
       "<Figure size 432x288 with 1 Axes>"
      ]
     },
     "metadata": {
      "needs_background": "light"
     },
     "output_type": "display_data"
    }
   ],
   "source": [
    "# Our label distribution (countplot)\n",
    "sns.countplot(x='quality',data=df)"
   ]
  },
  {
   "cell_type": "code",
   "execution_count": 7,
   "metadata": {},
   "outputs": [
    {
     "name": "stderr",
     "output_type": "stream",
     "text": [
      "C:\\ProgramData\\Anaconda3\\lib\\site-packages\\seaborn\\distributions.py:2551: FutureWarning: `distplot` is a deprecated function and will be removed in a future version. Please adapt your code to use either `displot` (a figure-level function with similar flexibility) or `histplot` (an axes-level function for histograms).\n",
      "  warnings.warn(msg, FutureWarning)\n"
     ]
    },
    {
     "data": {
      "text/plain": [
       "<AxesSubplot:ylabel='Density'>"
      ]
     },
     "execution_count": 7,
     "metadata": {},
     "output_type": "execute_result"
    },
    {
     "data": {
      "image/png": "[encoded data removed]",
      "text/plain": [
       "<Figure size 432x288 with 1 Axes>"
      ]
     },
     "metadata": {
      "needs_background": "light"
     },
     "output_type": "display_data"
    }
   ],
   "source": [
    "# Example EDA (distplot)\n",
    "sns.distplot(x=df['citric acid'])"
   ]
  },
  {
   "cell_type": "code",
   "execution_count": 8,
   "metadata": {},
   "outputs": [
    {
     "data": {
      "text/plain": [
       "<AxesSubplot:xlabel='density', ylabel='quality'>"
      ]
     },
     "execution_count": 8,
     "metadata": {},
     "output_type": "execute_result"
    },
    {
     "data": {
      "image/png": "[encoded data removed]",
      "text/plain": [
       "<Figure size 432x288 with 1 Axes>"
      ]
     },
     "metadata": {
      "needs_background": "light"
     },
     "output_type": "display_data"
    }
   ],
   "source": [
    "sns.scatterplot(x='density',y='quality',data=df)"
   ]
  },
  {
   "cell_type": "code",
   "execution_count": 9,
   "metadata": {},
   "outputs": [
    {
     "data": {
      "text/plain": [
       "<AxesSubplot:xlabel='quality', ylabel='alcohol'>"
      ]
     },
     "execution_count": 9,
     "metadata": {},
     "output_type": "execute_result"
    },
    {
     "data": {
      "image/png": "[encoded data removed]",
      "text/plain": [
       "<Figure size 432x288 with 1 Axes>"
      ]
     },
     "metadata": {
      "needs_background": "light"
     },
     "output_type": "display_data"
    }
   ],
   "source": [
    "sns.barplot(x=df['quality'],y=df['alcohol'])"
   ]
  },
  {
   "cell_type": "markdown",
   "metadata": {},
   "source": [
    "# Preprocessing\n",
    "\n",
    "- Are there any duplicated values?\n",
    "- Do we need to do feature scaling?\n",
    "- Do we need to generate new features?\n",
    "- Split Train and Test dataset. (0.7/0.3)"
   ]
  },
  {
   "cell_type": "code",
   "execution_count": 10,
   "metadata": {},
   "outputs": [
    {
     "data": {
      "text/plain": [
       "240"
      ]
     },
     "execution_count": 10,
     "metadata": {},
     "output_type": "execute_result"
    }
   ],
   "source": [
    "#Are there any duplicated values?\n",
    "df.duplicated().sum()"
   ]
  },
  {
   "cell_type": "code",
   "execution_count": 11,
   "metadata": {},
   "outputs": [],
   "source": [
    "#dropping duplicates value\n",
    "df.drop_duplicates(inplace=True,ignore_index=True)"
   ]
  },
  {
   "cell_type": "code",
   "execution_count": 12,
   "metadata": {},
   "outputs": [
    {
     "name": "stdout",
     "output_type": "stream",
     "text": [
      "<class 'pandas.core.frame.DataFrame'>\n",
      "RangeIndex: 1359 entries, 0 to 1358\n",
      "Data columns (total 12 columns):\n",
      " #   Column                Non-Null Count  Dtype  \n",
      "---  ------                --------------  -----  \n",
      " 0   fixed acidity         1359 non-null   float64\n",
      " 1   volatile acidity      1359 non-null   float64\n",
      " 2   citric acid           1359 non-null   float64\n",
      " 3   residual sugar        1359 non-null   float64\n",
      " 4   chlorides             1359 non-null   float64\n",
      " 5   free sulfur dioxide   1359 non-null   float64\n",
      " 6   total sulfur dioxide  1359 non-null   float64\n",
      " 7   density               1359 non-null   float64\n",
      " 8   pH                    1359 non-null   float64\n",
      " 9   sulphates             1359 non-null   float64\n",
      " 10  alcohol               1359 non-null   float64\n",
      " 11  quality               1359 non-null   int64  \n",
      "dtypes: float64(11), int64(1)\n",
      "memory usage: 127.5 KB\n"
     ]
    }
   ],
   "source": [
    "#checking the data\n",
    "df.info()"
   ]
  },
  {
   "cell_type": "code",
   "execution_count": 13,
   "metadata": {},
   "outputs": [],
   "source": [
    "#setting X and Y variable\n",
    "X=df.drop('quality',axis=1)\n",
    "Y=df['quality']\n"
   ]
  },
  {
   "cell_type": "code",
   "execution_count": 14,
   "metadata": {},
   "outputs": [
    {
     "data": {
      "text/plain": [
       "array([[0.24778761, 0.39726027, 0.        , ..., 0.60629921, 0.13772455,\n",
       "        0.15384615],\n",
       "       [0.28318584, 0.52054795, 0.        , ..., 0.36220472, 0.20958084,\n",
       "        0.21538462],\n",
       "       [0.28318584, 0.43835616, 0.04      , ..., 0.40944882, 0.19161677,\n",
       "        0.21538462],\n",
       "       ...,\n",
       "       [0.11504425, 0.29452055, 0.1       , ..., 0.61417323, 0.25748503,\n",
       "        0.43076923],\n",
       "       [0.11504425, 0.35958904, 0.12      , ..., 0.65354331, 0.22754491,\n",
       "        0.27692308],\n",
       "       [0.12389381, 0.13013699, 0.47      , ..., 0.51181102, 0.19760479,\n",
       "        0.4       ]])"
      ]
     },
     "execution_count": 14,
     "metadata": {},
     "output_type": "execute_result"
    }
   ],
   "source": [
    "#Scaling values in dataframe\n",
    "from sklearn.preprocessing import StandardScaler, MinMaxScaler\n",
    "X= MinMaxScaler().fit_transform(X)\n",
    "X"
   ]
  },
  {
   "cell_type": "code",
   "execution_count": 15,
   "metadata": {},
   "outputs": [
    {
     "name": "stdout",
     "output_type": "stream",
     "text": [
      "5.622549019607843\n",
      "5.6235541535226075\n",
      "5.6232523914643116\n"
     ]
    }
   ],
   "source": [
    "#splitting into train and test\n",
    "from sklearn.model_selection import train_test_split\n",
    "x_train,x_test,y_train,y_test=train_test_split(X,Y,stratify=Y,test_size=0.3,random_state=42)\n",
    "print(y_test.mean())\n",
    "print(y_train.mean()) \n",
    "print(Y.mean())"
   ]
  },
  {
   "cell_type": "code",
   "execution_count": 16,
   "metadata": {},
   "outputs": [
    {
     "data": {
      "text/plain": [
       "5    577\n",
       "6    535\n",
       "7    167\n",
       "4     53\n",
       "8     17\n",
       "3     10\n",
       "Name: quality, dtype: int64"
      ]
     },
     "execution_count": 16,
     "metadata": {},
     "output_type": "execute_result"
    }
   ],
   "source": [
    "df.quality.value_counts()"
   ]
  },
  {
   "cell_type": "markdown",
   "metadata": {},
   "source": [
    "# ML Application\n",
    "\n",
    "- Define models.\n",
    "- Fit models.\n",
    "- Evaluate models for both train and test dataset.\n",
    "- Generate Confusion Matrix and scores of Accuracy, Recall, Precision and F1-Score.\n",
    "- Analyse occurrence of overfitting and underfitting. If there is any of them, try to overcome it within a different section.\n",
    "#### Using Logistic Regression"
   ]
  },
  {
   "cell_type": "code",
   "execution_count": 17,
   "metadata": {},
   "outputs": [],
   "source": [
    "#importing logistic regression and training the model\n",
    "from sklearn.linear_model import LogisticRegression\n",
    "log=LogisticRegression(random_state=42)"
   ]
  },
  {
   "cell_type": "code",
   "execution_count": 18,
   "metadata": {},
   "outputs": [
    {
     "data": {
      "text/plain": [
       "LogisticRegression(random_state=42)"
      ]
     },
     "execution_count": 18,
     "metadata": {},
     "output_type": "execute_result"
    }
   ],
   "source": [
    "# fitting the model\n",
    "log.fit(x_train,y_train)"
   ]
  },
  {
   "cell_type": "code",
   "execution_count": 19,
   "metadata": {},
   "outputs": [],
   "source": [
    "# importing accuracy score from sklearn\n",
    "from sklearn.metrics import accuracy_score,precision_score,f1_score,recall_score,classification_report"
   ]
  },
  {
   "cell_type": "code",
   "execution_count": 20,
   "metadata": {},
   "outputs": [
    {
     "name": "stdout",
     "output_type": "stream",
     "text": [
      "Accuracy on train data: 0.5793901156677181\n",
      "Precision on train data: 0.275724799931762\n",
      "F1 score on train data: 0.22813265923801715\n",
      "Recall on train data: 0.24193882435000666\n"
     ]
    },
    {
     "name": "stderr",
     "output_type": "stream",
     "text": [
      "C:\\ProgramData\\Anaconda3\\lib\\site-packages\\sklearn\\metrics\\_classification.py:1221: UndefinedMetricWarning: Precision is ill-defined and being set to 0.0 in labels with no predicted samples. Use `zero_division` parameter to control this behavior.\n",
      "  _warn_prf(average, modifier, msg_start, len(result))\n"
     ]
    }
   ],
   "source": [
    "# testing the model on train data\n",
    "x_train_pred=log.predict(x_train)\n",
    "\n",
    "# checking its accuracy\n",
    "acc_train=accuracy_score(y_train,x_train_pred)\n",
    "pre_train=precision_score(y_train,x_train_pred,average='macro')\n",
    "f1_train=f1_score(y_train,x_train_pred,average='macro')\n",
    "recall_train=recall_score(y_train,x_train_pred,average='macro')\n",
    "print('Accuracy on train data:',acc_train)\n",
    "print('Precision on train data:',pre_train)\n",
    "print('F1 score on train data:',f1_train)\n",
    "print('Recall on train data:',recall_train)"
   ]
  },
  {
   "cell_type": "code",
   "execution_count": 21,
   "metadata": {},
   "outputs": [
    {
     "name": "stdout",
     "output_type": "stream",
     "text": [
      "Accuracy on test data: 0.5793901156677181\n",
      "Precision on test data: 0.275724799931762\n",
      "F1 score on test data: 0.22813265923801715\n",
      "Recall on test data: 0.24193882435000666\n"
     ]
    },
    {
     "name": "stderr",
     "output_type": "stream",
     "text": [
      "C:\\ProgramData\\Anaconda3\\lib\\site-packages\\sklearn\\metrics\\_classification.py:1221: UndefinedMetricWarning: Precision is ill-defined and being set to 0.0 in labels with no predicted samples. Use `zero_division` parameter to control this behavior.\n",
      "  _warn_prf(average, modifier, msg_start, len(result))\n"
     ]
    }
   ],
   "source": [
    "# testing the model on test data\n",
    "x_test_pred=log.predict(x_test)\n",
    "\n",
    "# checking its accuracy\n",
    "acc_test=accuracy_score(y_test,x_test_pred)\n",
    "pre_test=precision_score(y_test,x_test_pred,average='macro')\n",
    "f1_test=f1_score(y_test,x_test_pred,average='macro')\n",
    "recall_test=recall_score(y_test,x_test_pred,average='macro')\n",
    "print('Accuracy on test data:',acc_train)\n",
    "print('Precision on test data:',pre_train)\n",
    "print('F1 score on test data:',f1_train)\n",
    "print('Recall on test data:',recall_train)"
   ]
  },
  {
   "cell_type": "code",
   "execution_count": 22,
   "metadata": {},
   "outputs": [
    {
     "name": "stdout",
     "output_type": "stream",
     "text": [
      "Classification Report:               precision    recall  f1-score   support\n",
      "\n",
      "           3       0.00      0.00      0.00         3\n",
      "           4       0.00      0.00      0.00        16\n",
      "           5       0.61      0.76      0.67       173\n",
      "           6       0.51      0.58      0.54       161\n",
      "           7       0.38      0.06      0.10        50\n",
      "           8       0.00      0.00      0.00         5\n",
      "\n",
      "    accuracy                           0.56       408\n",
      "   macro avg       0.25      0.23      0.22       408\n",
      "weighted avg       0.50      0.56      0.51       408\n",
      "\n"
     ]
    },
    {
     "name": "stderr",
     "output_type": "stream",
     "text": [
      "C:\\ProgramData\\Anaconda3\\lib\\site-packages\\sklearn\\metrics\\_classification.py:1221: UndefinedMetricWarning: Precision and F-score are ill-defined and being set to 0.0 in labels with no predicted samples. Use `zero_division` parameter to control this behavior.\n",
      "  _warn_prf(average, modifier, msg_start, len(result))\n"
     ]
    }
   ],
   "source": [
    "print('Classification Report:',classification_report(y_test,x_test_pred))"
   ]
  },
  {
   "cell_type": "code",
   "execution_count": 23,
   "metadata": {},
   "outputs": [
    {
     "data": {
      "text/plain": [
       "array([[  0,   0,   2,   1,   0,   0],\n",
       "       [  0,   0,  13,   3,   0,   0],\n",
       "       [  0,   0, 131,  41,   1,   0],\n",
       "       [  0,   0,  66,  93,   2,   0],\n",
       "       [  0,   0,   4,  43,   3,   0],\n",
       "       [  0,   0,   0,   3,   2,   0]], dtype=int64)"
      ]
     },
     "execution_count": 23,
     "metadata": {},
     "output_type": "execute_result"
    }
   ],
   "source": [
    "# Confusion Matrix\n",
    "from sklearn.metrics import confusion_matrix\n",
    "\n",
    "cm = confusion_matrix(y_test, x_test_pred)\n",
    "cm"
   ]
  },
  {
   "cell_type": "code",
   "execution_count": 24,
   "metadata": {},
   "outputs": [
    {
     "data": {
      "image/png": "[encoded data removed]",
      "text/plain": [
       "<Figure size 432x288 with 1 Axes>"
      ]
     },
     "metadata": {
      "needs_background": "light"
     },
     "output_type": "display_data"
    }
   ],
   "source": [
    "#visualizing confusion matrix\n",
    "sns.heatmap(cm,annot=True,cbar=False,cmap='RdBu')\n",
    "plt.title('Confusion matrix',fontsize=15)\n",
    "plt.xlabel('Predicted Labels',fontsize = 12)\n",
    "plt.ylabel('True Labels',fontsize = 12)\n",
    "plt.xticks(ticks=np.arange(0.5,6.5),labels=[3,4,5,6,7,8])\n",
    "plt.yticks(ticks=np.arange(0.5,6.5),labels=[3,4,5,6,7,8])\n",
    "plt.show()"
   ]
  },
  {
   "cell_type": "code",
   "execution_count": 25,
   "metadata": {},
   "outputs": [
    {
     "name": "stdout",
     "output_type": "stream",
     "text": [
      "Tuned: {'C': 78.47599703514607, 'penalty': 'l2', 'solver': 'liblinear'}\n",
      "Mean of the cv scores: 0.5730809674027341\n",
      "Train Score: 0.5856992639327024\n",
      "Test Score: 0.5686274509803921\n"
     ]
    },
    {
     "name": "stderr",
     "output_type": "stream",
     "text": [
      "C:\\ProgramData\\Anaconda3\\lib\\site-packages\\sklearn\\svm\\_base.py:976: ConvergenceWarning: Liblinear failed to converge, increase the number of iterations.\n",
      "  warnings.warn(\"Liblinear failed to converge, increase \"\n"
     ]
    }
   ],
   "source": [
    "## Hyperparameter Tuning\n",
    "from sklearn.model_selection import GridSearchCV\n",
    "\n",
    "param_dict ={'penalty' : ['l1', 'l2'],\n",
    "             'C' : np.logspace(-4, 4, 20),\n",
    "             'solver' : ['liblinear']}\n",
    "\n",
    "log_model=LogisticRegression(random_state=42)\n",
    "\n",
    "gcv=GridSearchCV(log_model,param_dict,cv=3)\n",
    "gcv.fit(x_train,y_train)\n",
    "print('Tuned:',gcv.best_params_)\n",
    "print(\"Mean of the cv scores:\",gcv.best_score_)\n",
    "print(\"Train Score:\",gcv.score(x_train,y_train))\n",
    "print(\"Test Score:\",gcv.score(x_test,y_test))"
   ]
  },
  {
   "cell_type": "markdown",
   "metadata": {},
   "source": [
    "#### Using Decision Tree"
   ]
  },
  {
   "cell_type": "code",
   "execution_count": 26,
   "metadata": {},
   "outputs": [],
   "source": [
    "#importing decision tree classifier\n",
    "from sklearn.tree import DecisionTreeClassifier\n",
    "\n",
    "clf=DecisionTreeClassifier(max_depth=4,random_state=42)"
   ]
  },
  {
   "cell_type": "code",
   "execution_count": 27,
   "metadata": {},
   "outputs": [
    {
     "data": {
      "text/plain": [
       "DecisionTreeClassifier(max_depth=4, random_state=42)"
      ]
     },
     "execution_count": 27,
     "metadata": {},
     "output_type": "execute_result"
    }
   ],
   "source": [
    "#trainin the model\n",
    "clf.fit(x_train,y_train)"
   ]
  },
  {
   "cell_type": "code",
   "execution_count": 28,
   "metadata": {},
   "outputs": [
    {
     "name": "stderr",
     "output_type": "stream",
     "text": [
      "C:\\ProgramData\\Anaconda3\\lib\\site-packages\\sklearn\\metrics\\_classification.py:1221: UndefinedMetricWarning: Precision is ill-defined and being set to 0.0 in labels with no predicted samples. Use `zero_division` parameter to control this behavior.\n",
      "  _warn_prf(average, modifier, msg_start, len(result))\n"
     ]
    },
    {
     "name": "stdout",
     "output_type": "stream",
     "text": [
      "Accuracy on train data: 0.6466876971608833\n",
      "Precision on train data: 0.4713956037710467\n",
      "F1 score on train data: 0.3363126814936905\n",
      "Recall on train data: 0.32528699906393554\n"
     ]
    }
   ],
   "source": [
    "# testing the model on train data\n",
    "x_train_pred=clf.predict(x_train)\n",
    "\n",
    "# checking its accuracy\n",
    "acc_train=accuracy_score(y_train,x_train_pred)\n",
    "pre_train=precision_score(y_train,x_train_pred,average='macro')\n",
    "f1_train=f1_score(y_train,x_train_pred,average='macro')\n",
    "recall_train=recall_score(y_train,x_train_pred,average='macro')\n",
    "print('Accuracy on train data:',acc_train)\n",
    "print('Precision on train data:',pre_train)\n",
    "print('F1 score on train data:',f1_train)\n",
    "print('Recall on train data:',recall_train)"
   ]
  },
  {
   "cell_type": "code",
   "execution_count": 29,
   "metadata": {},
   "outputs": [
    {
     "name": "stdout",
     "output_type": "stream",
     "text": [
      "Accuracy on test data: 0.6466876971608833\n",
      "Precision on test data: 0.4713956037710467\n",
      "F1 score on test data: 0.3363126814936905\n",
      "Recall on test data: 0.32528699906393554\n"
     ]
    },
    {
     "name": "stderr",
     "output_type": "stream",
     "text": [
      "C:\\ProgramData\\Anaconda3\\lib\\site-packages\\sklearn\\metrics\\_classification.py:1221: UndefinedMetricWarning: Precision is ill-defined and being set to 0.0 in labels with no predicted samples. Use `zero_division` parameter to control this behavior.\n",
      "  _warn_prf(average, modifier, msg_start, len(result))\n"
     ]
    }
   ],
   "source": [
    "# testing the model on test data\n",
    "x_test_pred=clf.predict(x_test)\n",
    "\n",
    "# checking its accuracy\n",
    "acc_test=accuracy_score(y_test,x_test_pred)\n",
    "pre_test=precision_score(y_test,x_test_pred,average='macro')\n",
    "f1_test=f1_score(y_test,x_test_pred,average='macro')\n",
    "recall_test=recall_score(y_test,x_test_pred,average='macro')\n",
    "print('Accuracy on test data:',acc_train)\n",
    "print('Precision on test data:',pre_train)\n",
    "print('F1 score on test data:',f1_train)\n",
    "print('Recall on test data:',recall_train)"
   ]
  },
  {
   "cell_type": "code",
   "execution_count": 30,
   "metadata": {},
   "outputs": [
    {
     "name": "stdout",
     "output_type": "stream",
     "text": [
      "Classification Report:               precision    recall  f1-score   support\n",
      "\n",
      "           3       0.00      0.00      0.00         3\n",
      "           4       0.00      0.00      0.00        16\n",
      "           5       0.60      0.74      0.66       173\n",
      "           6       0.53      0.49      0.51       161\n",
      "           7       0.45      0.40      0.43        50\n",
      "           8       0.00      0.00      0.00         5\n",
      "\n",
      "    accuracy                           0.56       408\n",
      "   macro avg       0.26      0.27      0.27       408\n",
      "weighted avg       0.52      0.56      0.53       408\n",
      "\n"
     ]
    },
    {
     "name": "stderr",
     "output_type": "stream",
     "text": [
      "C:\\ProgramData\\Anaconda3\\lib\\site-packages\\sklearn\\metrics\\_classification.py:1221: UndefinedMetricWarning: Precision and F-score are ill-defined and being set to 0.0 in labels with no predicted samples. Use `zero_division` parameter to control this behavior.\n",
      "  _warn_prf(average, modifier, msg_start, len(result))\n"
     ]
    }
   ],
   "source": [
    "print('Classification Report:',classification_report(y_test,x_test_pred))"
   ]
  },
  {
   "cell_type": "code",
   "execution_count": 31,
   "metadata": {},
   "outputs": [
    {
     "data": {
      "text/plain": [
       "array([[  0,   0,   3,   0,   0,   0],\n",
       "       [  0,   0,  15,   1,   0,   0],\n",
       "       [  0,   2, 128,  39,   4,   0],\n",
       "       [  0,   0,  64,  79,  18,   0],\n",
       "       [  0,   0,   2,  28,  20,   0],\n",
       "       [  0,   0,   0,   3,   2,   0]], dtype=int64)"
      ]
     },
     "execution_count": 31,
     "metadata": {},
     "output_type": "execute_result"
    }
   ],
   "source": [
    "# Confusion Matrix\n",
    "from sklearn.metrics import confusion_matrix\n",
    "\n",
    "cm = confusion_matrix(y_test, x_test_pred)\n",
    "cm"
   ]
  },
  {
   "cell_type": "code",
   "execution_count": 32,
   "metadata": {},
   "outputs": [
    {
     "data": {
      "image/png": "[encoded data removed]",
      "text/plain": [
       "<Figure size 432x288 with 1 Axes>"
      ]
     },
     "metadata": {
      "needs_background": "light"
     },
     "output_type": "display_data"
    }
   ],
   "source": [
    "#visualizing confusion matrix\n",
    "sns.heatmap(cm,annot=True,cbar=False,cmap='RdBu')\n",
    "plt.title('Confusion matrix',fontsize=15)\n",
    "plt.xlabel('Predicted Labels',fontsize = 12)\n",
    "plt.ylabel('True Labels',fontsize = 12)\n",
    "plt.xticks(ticks=np.arange(0.5,6.5),labels=[3,4,5,6,7,8])\n",
    "plt.yticks(ticks=np.arange(0.5,6.5),labels=[3,4,5,6,7,8])\n",
    "plt.show()"
   ]
  },
  {
   "cell_type": "code",
   "execution_count": 33,
   "metadata": {},
   "outputs": [
    {
     "data": {
      "text/plain": [
       "<AxesSubplot:>"
      ]
     },
     "execution_count": 33,
     "metadata": {},
     "output_type": "execute_result"
    },
    {
     "data": {
      "image/png": "[encoded data removed]",
      "text/plain": [
       "<Figure size 1080x576 with 1 Axes>"
      ]
     },
     "metadata": {
      "needs_background": "light"
     },
     "output_type": "display_data"
    }
   ],
   "source": [
    "#visualising feature importance\n",
    "plt.figure(figsize=(15,8))\n",
    "importance=clf.feature_importances_\n",
    "X=df.drop('quality',axis=1)\n",
    "sns.barplot(x=importance,y=X.columns)"
   ]
  },
  {
   "cell_type": "code",
   "execution_count": 34,
   "metadata": {},
   "outputs": [
    {
     "data": {
      "image/svg+xml": [
       "<?xml version=\"1.0\" encoding=\"UTF-8\" standalone=\"no\"?>\r\n",
       "<!DOCTYPE svg PUBLIC \"-//W3C//DTD SVG 1.1//EN\"\r\n",
       " \"http://www.w3.org/Graphics/SVG/1.1/DTD/svg11.dtd\">\r\n",
       "<!-- Generated by graphviz version 2.38.0 (20140413.2041)\r\n",
       " -->\r\n",
       "<!-- Title: Tree Pages: 1 -->\r\n",
       "<svg width=\"3010pt\" height=\"552pt\"\r\n",
       " viewBox=\"0.00 0.00 3010.00 552.00\" xmlns=\"http://www.w3.org/2000/svg\" xmlns:xlink=\"http://www.w3.org/1999/xlink\">\r\n",
       "<g id=\"graph0\" class=\"graph\" transform=\"scale(1 1) rotate(0) translate(4 548)\">\r\n",
       "<title>Tree</title>\r\n",
       "<polygon fill=\"white\" stroke=\"none\" points=\"-4,4 -4,-548 3006,-548 3006,4 -4,4\"/>\r\n",
       "<!-- 0 -->\r\n",
       "<g id=\"node1\" class=\"node\"><title>0</title>\r\n",
       "<path fill=\"#f5fef8\" stroke=\"black\" d=\"M1575,-544C1575,-544 1373,-544 1373,-544 1367,-544 1361,-538 1361,-532 1361,-532 1361,-473 1361,-473 1361,-467 1367,-461 1373,-461 1373,-461 1575,-461 1575,-461 1581,-461 1587,-467 1587,-473 1587,-473 1587,-532 1587,-532 1587,-538 1581,-544 1575,-544\"/>\r\n",
       "<text text-anchor=\"middle\" x=\"1474\" y=\"-528.8\" font-family=\"Helvetica,sans-Serif\" font-size=\"14.00\">alcohol &lt;= 0.235</text>\r\n",
       "<text text-anchor=\"middle\" x=\"1474\" y=\"-513.8\" font-family=\"Helvetica,sans-Serif\" font-size=\"14.00\">gini = 0.648</text>\r\n",
       "<text text-anchor=\"middle\" x=\"1474\" y=\"-498.8\" font-family=\"Helvetica,sans-Serif\" font-size=\"14.00\">samples = 951</text>\r\n",
       "<text text-anchor=\"middle\" x=\"1474\" y=\"-483.8\" font-family=\"Helvetica,sans-Serif\" font-size=\"14.00\">value = [7, 37, 404, 374, 117, 12]</text>\r\n",
       "<text text-anchor=\"middle\" x=\"1474\" y=\"-468.8\" font-family=\"Helvetica,sans-Serif\" font-size=\"14.00\">class = 6</text>\r\n",
       "</g>\r\n",
       "<!-- 1 -->\r\n",
       "<g id=\"node2\" class=\"node\"><title>1</title>\r\n",
       "<path fill=\"#93f1ba\" stroke=\"black\" d=\"M1193.5,-425C1193.5,-425 1016.5,-425 1016.5,-425 1010.5,-425 1004.5,-419 1004.5,-413 1004.5,-413 1004.5,-354 1004.5,-354 1004.5,-348 1010.5,-342 1016.5,-342 1016.5,-342 1193.5,-342 1193.5,-342 1199.5,-342 1205.5,-348 1205.5,-354 1205.5,-354 1205.5,-413 1205.5,-413 1205.5,-419 1199.5,-425 1193.5,-425\"/>\r\n",
       "<text text-anchor=\"middle\" x=\"1105\" y=\"-409.8\" font-family=\"Helvetica,sans-Serif\" font-size=\"14.00\">sulphates &lt;= 0.147</text>\r\n",
       "<text text-anchor=\"middle\" x=\"1105\" y=\"-394.8\" font-family=\"Helvetica,sans-Serif\" font-size=\"14.00\">gini = 0.483</text>\r\n",
       "<text text-anchor=\"middle\" x=\"1105\" y=\"-379.8\" font-family=\"Helvetica,sans-Serif\" font-size=\"14.00\">samples = 412</text>\r\n",
       "<text text-anchor=\"middle\" x=\"1105\" y=\"-364.8\" font-family=\"Helvetica,sans-Serif\" font-size=\"14.00\">value = [3, 16, 275, 109, 8, 1]</text>\r\n",
       "<text text-anchor=\"middle\" x=\"1105\" y=\"-349.8\" font-family=\"Helvetica,sans-Serif\" font-size=\"14.00\">class = 6</text>\r\n",
       "</g>\r\n",
       "<!-- 0&#45;&gt;1 -->\r\n",
       "<g id=\"edge1\" class=\"edge\"><title>0&#45;&gt;1</title>\r\n",
       "<path fill=\"none\" stroke=\"black\" d=\"M1360.78,-465.601C1314.6,-450.958 1261.37,-434.082 1215.48,-419.529\"/>\r\n",
       "<polygon fill=\"black\" stroke=\"black\" points=\"1216.39,-416.147 1205.8,-416.46 1214.27,-422.819 1216.39,-416.147\"/>\r\n",
       "<text text-anchor=\"middle\" x=\"1217.31\" y=\"-434.954\" font-family=\"Helvetica,sans-Serif\" font-size=\"14.00\">True</text>\r\n",
       "</g>\r\n",
       "<!-- 16 -->\r\n",
       "<g id=\"node17\" class=\"node\"><title>16</title>\r\n",
       "<path fill=\"#bddef6\" stroke=\"black\" d=\"M1948,-425C1948,-425 1746,-425 1746,-425 1740,-425 1734,-419 1734,-413 1734,-413 1734,-354 1734,-354 1734,-348 1740,-342 1746,-342 1746,-342 1948,-342 1948,-342 1954,-342 1960,-348 1960,-354 1960,-354 1960,-413 1960,-413 1960,-419 1954,-425 1948,-425\"/>\r\n",
       "<text text-anchor=\"middle\" x=\"1847\" y=\"-409.8\" font-family=\"Helvetica,sans-Serif\" font-size=\"14.00\">alcohol &lt;= 0.405</text>\r\n",
       "<text text-anchor=\"middle\" x=\"1847\" y=\"-394.8\" font-family=\"Helvetica,sans-Serif\" font-size=\"14.00\">gini = 0.658</text>\r\n",
       "<text text-anchor=\"middle\" x=\"1847\" y=\"-379.8\" font-family=\"Helvetica,sans-Serif\" font-size=\"14.00\">samples = 539</text>\r\n",
       "<text text-anchor=\"middle\" x=\"1847\" y=\"-364.8\" font-family=\"Helvetica,sans-Serif\" font-size=\"14.00\">value = [4, 21, 129, 265, 109, 11]</text>\r\n",
       "<text text-anchor=\"middle\" x=\"1847\" y=\"-349.8\" font-family=\"Helvetica,sans-Serif\" font-size=\"14.00\">class = 7</text>\r\n",
       "</g>\r\n",
       "<!-- 0&#45;&gt;16 -->\r\n",
       "<g id=\"edge16\" class=\"edge\"><title>0&#45;&gt;16</title>\r\n",
       "<path fill=\"none\" stroke=\"black\" d=\"M1587.18,-465.999C1630.52,-452.405 1680.14,-436.839 1724.33,-422.979\"/>\r\n",
       "<polygon fill=\"black\" stroke=\"black\" points=\"1725.47,-426.289 1733.96,-419.957 1723.37,-419.61 1725.47,-426.289\"/>\r\n",
       "<text text-anchor=\"middle\" x=\"1722.39\" y=\"-438.415\" font-family=\"Helvetica,sans-Serif\" font-size=\"14.00\">False</text>\r\n",
       "</g>\r\n",
       "<!-- 2 -->\r\n",
       "<g id=\"node3\" class=\"node\"><title>2</title>\r\n",
       "<path fill=\"#6beca1\" stroke=\"black\" d=\"M622.5,-306C622.5,-306 461.5,-306 461.5,-306 455.5,-306 449.5,-300 449.5,-294 449.5,-294 449.5,-235 449.5,-235 449.5,-229 455.5,-223 461.5,-223 461.5,-223 622.5,-223 622.5,-223 628.5,-223 634.5,-229 634.5,-235 634.5,-235 634.5,-294 634.5,-294 634.5,-300 628.5,-306 622.5,-306\"/>\r\n",
       "<text text-anchor=\"middle\" x=\"542\" y=\"-290.8\" font-family=\"Helvetica,sans-Serif\" font-size=\"14.00\">alcohol &lt;= 0.104</text>\r\n",
       "<text text-anchor=\"middle\" x=\"542\" y=\"-275.8\" font-family=\"Helvetica,sans-Serif\" font-size=\"14.00\">gini = 0.357</text>\r\n",
       "<text text-anchor=\"middle\" x=\"542\" y=\"-260.8\" font-family=\"Helvetica,sans-Serif\" font-size=\"14.00\">samples = 187</text>\r\n",
       "<text text-anchor=\"middle\" x=\"542\" y=\"-245.8\" font-family=\"Helvetica,sans-Serif\" font-size=\"14.00\">value = [2, 9, 147, 28, 1, 0]</text>\r\n",
       "<text text-anchor=\"middle\" x=\"542\" y=\"-230.8\" font-family=\"Helvetica,sans-Serif\" font-size=\"14.00\">class = 6</text>\r\n",
       "</g>\r\n",
       "<!-- 1&#45;&gt;2 -->\r\n",
       "<g id=\"edge2\" class=\"edge\"><title>1&#45;&gt;2</title>\r\n",
       "<path fill=\"none\" stroke=\"black\" d=\"M1004.35,-361.583C902.877,-340.496 747.041,-308.111 644.809,-286.865\"/>\r\n",
       "<polygon fill=\"black\" stroke=\"black\" points=\"645.281,-283.389 634.778,-284.781 643.857,-290.242 645.281,-283.389\"/>\r\n",
       "</g>\r\n",
       "<!-- 9 -->\r\n",
       "<g id=\"node10\" class=\"node\"><title>9</title>\r\n",
       "<path fill=\"#bef7d6\" stroke=\"black\" d=\"M1188.5,-306C1188.5,-306 1021.5,-306 1021.5,-306 1015.5,-306 1009.5,-300 1009.5,-294 1009.5,-294 1009.5,-235 1009.5,-235 1009.5,-229 1015.5,-223 1021.5,-223 1021.5,-223 1188.5,-223 1188.5,-223 1194.5,-223 1200.5,-229 1200.5,-235 1200.5,-235 1200.5,-294 1200.5,-294 1200.5,-300 1194.5,-306 1188.5,-306\"/>\r\n",
       "<text text-anchor=\"middle\" x=\"1105\" y=\"-290.8\" font-family=\"Helvetica,sans-Serif\" font-size=\"14.00\">total sulfur dioxide &lt;= 0.302</text>\r\n",
       "<text text-anchor=\"middle\" x=\"1105\" y=\"-275.8\" font-family=\"Helvetica,sans-Serif\" font-size=\"14.00\">gini = 0.545</text>\r\n",
       "<text text-anchor=\"middle\" x=\"1105\" y=\"-260.8\" font-family=\"Helvetica,sans-Serif\" font-size=\"14.00\">samples = 225</text>\r\n",
       "<text text-anchor=\"middle\" x=\"1105\" y=\"-245.8\" font-family=\"Helvetica,sans-Serif\" font-size=\"14.00\">value = [1, 7, 128, 81, 7, 1]</text>\r\n",
       "<text text-anchor=\"middle\" x=\"1105\" y=\"-230.8\" font-family=\"Helvetica,sans-Serif\" font-size=\"14.00\">class = 6</text>\r\n",
       "</g>\r\n",
       "<!-- 1&#45;&gt;9 -->\r\n",
       "<g id=\"edge9\" class=\"edge\"><title>1&#45;&gt;9</title>\r\n",
       "<path fill=\"none\" stroke=\"black\" d=\"M1105,-341.907C1105,-333.649 1105,-324.864 1105,-316.302\"/>\r\n",
       "<polygon fill=\"black\" stroke=\"black\" points=\"1108.5,-316.021 1105,-306.021 1101.5,-316.021 1108.5,-316.021\"/>\r\n",
       "</g>\r\n",
       "<!-- 3 -->\r\n",
       "<g id=\"node4\" class=\"node\"><title>3</title>\r\n",
       "<path fill=\"#ffffff\" stroke=\"black\" d=\"M326,-187C326,-187 190,-187 190,-187 184,-187 178,-181 178,-175 178,-175 178,-116 178,-116 178,-110 184,-104 190,-104 190,-104 326,-104 326,-104 332,-104 338,-110 338,-116 338,-116 338,-175 338,-175 338,-181 332,-187 326,-187\"/>\r\n",
       "<text text-anchor=\"middle\" x=\"258\" y=\"-171.8\" font-family=\"Helvetica,sans-Serif\" font-size=\"14.00\">pH &lt;= 0.476</text>\r\n",
       "<text text-anchor=\"middle\" x=\"258\" y=\"-156.8\" font-family=\"Helvetica,sans-Serif\" font-size=\"14.00\">gini = 0.716</text>\r\n",
       "<text text-anchor=\"middle\" x=\"258\" y=\"-141.8\" font-family=\"Helvetica,sans-Serif\" font-size=\"14.00\">samples = 9</text>\r\n",
       "<text text-anchor=\"middle\" x=\"258\" y=\"-126.8\" font-family=\"Helvetica,sans-Serif\" font-size=\"14.00\">value = [1, 3, 2, 3, 0, 0]</text>\r\n",
       "<text text-anchor=\"middle\" x=\"258\" y=\"-111.8\" font-family=\"Helvetica,sans-Serif\" font-size=\"14.00\">class = 5</text>\r\n",
       "</g>\r\n",
       "<!-- 2&#45;&gt;3 -->\r\n",
       "<g id=\"edge3\" class=\"edge\"><title>2&#45;&gt;3</title>\r\n",
       "<path fill=\"none\" stroke=\"black\" d=\"M449.401,-225.352C416.694,-211.878 379.994,-196.758 347.545,-183.39\"/>\r\n",
       "<polygon fill=\"black\" stroke=\"black\" points=\"348.648,-180.059 338.068,-179.486 345.981,-186.531 348.648,-180.059\"/>\r\n",
       "</g>\r\n",
       "<!-- 6 -->\r\n",
       "<g id=\"node7\" class=\"node\"><title>6</title>\r\n",
       "<path fill=\"#64eb9c\" stroke=\"black\" d=\"M622.5,-187C622.5,-187 461.5,-187 461.5,-187 455.5,-187 449.5,-181 449.5,-175 449.5,-175 449.5,-116 449.5,-116 449.5,-110 455.5,-104 461.5,-104 461.5,-104 622.5,-104 622.5,-104 628.5,-104 634.5,-110 634.5,-116 634.5,-116 634.5,-175 634.5,-175 634.5,-181 628.5,-187 622.5,-187\"/>\r\n",
       "<text text-anchor=\"middle\" x=\"542\" y=\"-171.8\" font-family=\"Helvetica,sans-Serif\" font-size=\"14.00\">chlorides &lt;= 0.113</text>\r\n",
       "<text text-anchor=\"middle\" x=\"542\" y=\"-156.8\" font-family=\"Helvetica,sans-Serif\" font-size=\"14.00\">gini = 0.315</text>\r\n",
       "<text text-anchor=\"middle\" x=\"542\" y=\"-141.8\" font-family=\"Helvetica,sans-Serif\" font-size=\"14.00\">samples = 178</text>\r\n",
       "<text text-anchor=\"middle\" x=\"542\" y=\"-126.8\" font-family=\"Helvetica,sans-Serif\" font-size=\"14.00\">value = [1, 6, 145, 25, 1, 0]</text>\r\n",
       "<text text-anchor=\"middle\" x=\"542\" y=\"-111.8\" font-family=\"Helvetica,sans-Serif\" font-size=\"14.00\">class = 6</text>\r\n",
       "</g>\r\n",
       "<!-- 2&#45;&gt;6 -->\r\n",
       "<g id=\"edge6\" class=\"edge\"><title>2&#45;&gt;6</title>\r\n",
       "<path fill=\"none\" stroke=\"black\" d=\"M542,-222.907C542,-214.649 542,-205.864 542,-197.302\"/>\r\n",
       "<polygon fill=\"black\" stroke=\"black\" points=\"545.5,-197.021 542,-187.021 538.5,-197.021 545.5,-197.021\"/>\r\n",
       "</g>\r\n",
       "<!-- 4 -->\r\n",
       "<g id=\"node5\" class=\"node\"><title>4</title>\r\n",
       "<path fill=\"#cee6f8\" stroke=\"black\" d=\"M148,-68C148,-68 12,-68 12,-68 6,-68 0,-62 0,-56 0,-56 0,-12 0,-12 0,-6 6,-0 12,-0 12,-0 148,-0 148,-0 154,-0 160,-6 160,-12 160,-12 160,-56 160,-56 160,-62 154,-68 148,-68\"/>\r\n",
       "<text text-anchor=\"middle\" x=\"80\" y=\"-52.8\" font-family=\"Helvetica,sans-Serif\" font-size=\"14.00\">gini = 0.611</text>\r\n",
       "<text text-anchor=\"middle\" x=\"80\" y=\"-37.8\" font-family=\"Helvetica,sans-Serif\" font-size=\"14.00\">samples = 6</text>\r\n",
       "<text text-anchor=\"middle\" x=\"80\" y=\"-22.8\" font-family=\"Helvetica,sans-Serif\" font-size=\"14.00\">value = [1, 0, 2, 3, 0, 0]</text>\r\n",
       "<text text-anchor=\"middle\" x=\"80\" y=\"-7.8\" font-family=\"Helvetica,sans-Serif\" font-size=\"14.00\">class = 7</text>\r\n",
       "</g>\r\n",
       "<!-- 3&#45;&gt;4 -->\r\n",
       "<g id=\"edge4\" class=\"edge\"><title>3&#45;&gt;4</title>\r\n",
       "<path fill=\"none\" stroke=\"black\" d=\"M191.972,-103.882C175.777,-93.9191 158.493,-83.2862 142.471,-73.4299\"/>\r\n",
       "<polygon fill=\"black\" stroke=\"black\" points=\"144.066,-70.3019 133.714,-68.0433 140.398,-76.2641 144.066,-70.3019\"/>\r\n",
       "</g>\r\n",
       "<!-- 5 -->\r\n",
       "<g id=\"node6\" class=\"node\"><title>5</title>\r\n",
       "<path fill=\"#9de539\" stroke=\"black\" d=\"M326,-68C326,-68 190,-68 190,-68 184,-68 178,-62 178,-56 178,-56 178,-12 178,-12 178,-6 184,-0 190,-0 190,-0 326,-0 326,-0 332,-0 338,-6 338,-12 338,-12 338,-56 338,-56 338,-62 332,-68 326,-68\"/>\r\n",
       "<text text-anchor=\"middle\" x=\"258\" y=\"-52.8\" font-family=\"Helvetica,sans-Serif\" font-size=\"14.00\">gini = 0.0</text>\r\n",
       "<text text-anchor=\"middle\" x=\"258\" y=\"-37.8\" font-family=\"Helvetica,sans-Serif\" font-size=\"14.00\">samples = 3</text>\r\n",
       "<text text-anchor=\"middle\" x=\"258\" y=\"-22.8\" font-family=\"Helvetica,sans-Serif\" font-size=\"14.00\">value = [0, 3, 0, 0, 0, 0]</text>\r\n",
       "<text text-anchor=\"middle\" x=\"258\" y=\"-7.8\" font-family=\"Helvetica,sans-Serif\" font-size=\"14.00\">class = 5</text>\r\n",
       "</g>\r\n",
       "<!-- 3&#45;&gt;5 -->\r\n",
       "<g id=\"edge5\" class=\"edge\"><title>3&#45;&gt;5</title>\r\n",
       "<path fill=\"none\" stroke=\"black\" d=\"M258,-103.726C258,-95.5175 258,-86.8595 258,-78.56\"/>\r\n",
       "<polygon fill=\"black\" stroke=\"black\" points=\"261.5,-78.2996 258,-68.2996 254.5,-78.2996 261.5,-78.2996\"/>\r\n",
       "</g>\r\n",
       "<!-- 7 -->\r\n",
       "<g id=\"node8\" class=\"node\"><title>7</title>\r\n",
       "<path fill=\"#81eeaf\" stroke=\"black\" d=\"M520,-68C520,-68 368,-68 368,-68 362,-68 356,-62 356,-56 356,-56 356,-12 356,-12 356,-6 362,-0 368,-0 368,-0 520,-0 520,-0 526,-0 532,-6 532,-12 532,-12 532,-56 532,-56 532,-62 526,-68 520,-68\"/>\r\n",
       "<text text-anchor=\"middle\" x=\"444\" y=\"-52.8\" font-family=\"Helvetica,sans-Serif\" font-size=\"14.00\">gini = 0.436</text>\r\n",
       "<text text-anchor=\"middle\" x=\"444\" y=\"-37.8\" font-family=\"Helvetica,sans-Serif\" font-size=\"14.00\">samples = 81</text>\r\n",
       "<text text-anchor=\"middle\" x=\"444\" y=\"-22.8\" font-family=\"Helvetica,sans-Serif\" font-size=\"14.00\">value = [1, 3, 58, 18, 1, 0]</text>\r\n",
       "<text text-anchor=\"middle\" x=\"444\" y=\"-7.8\" font-family=\"Helvetica,sans-Serif\" font-size=\"14.00\">class = 6</text>\r\n",
       "</g>\r\n",
       "<!-- 6&#45;&gt;7 -->\r\n",
       "<g id=\"edge7\" class=\"edge\"><title>6&#45;&gt;7</title>\r\n",
       "<path fill=\"none\" stroke=\"black\" d=\"M505.508,-103.726C497.345,-94.6054 488.686,-84.93 480.522,-75.8078\"/>\r\n",
       "<polygon fill=\"black\" stroke=\"black\" points=\"483.079,-73.417 473.802,-68.2996 477.863,-78.0853 483.079,-73.417\"/>\r\n",
       "</g>\r\n",
       "<!-- 8 -->\r\n",
       "<g id=\"node9\" class=\"node\"><title>8</title>\r\n",
       "<path fill=\"#4fe88f\" stroke=\"black\" d=\"M706,-68C706,-68 562,-68 562,-68 556,-68 550,-62 550,-56 550,-56 550,-12 550,-12 550,-6 556,-0 562,-0 562,-0 706,-0 706,-0 712,-0 718,-6 718,-12 718,-12 718,-56 718,-56 718,-62 712,-68 706,-68\"/>\r\n",
       "<text text-anchor=\"middle\" x=\"634\" y=\"-52.8\" font-family=\"Helvetica,sans-Serif\" font-size=\"14.00\">gini = 0.189</text>\r\n",
       "<text text-anchor=\"middle\" x=\"634\" y=\"-37.8\" font-family=\"Helvetica,sans-Serif\" font-size=\"14.00\">samples = 97</text>\r\n",
       "<text text-anchor=\"middle\" x=\"634\" y=\"-22.8\" font-family=\"Helvetica,sans-Serif\" font-size=\"14.00\">value = [0, 3, 87, 7, 0, 0]</text>\r\n",
       "<text text-anchor=\"middle\" x=\"634\" y=\"-7.8\" font-family=\"Helvetica,sans-Serif\" font-size=\"14.00\">class = 6</text>\r\n",
       "</g>\r\n",
       "<!-- 6&#45;&gt;8 -->\r\n",
       "<g id=\"edge8\" class=\"edge\"><title>6&#45;&gt;8</title>\r\n",
       "<path fill=\"none\" stroke=\"black\" d=\"M576.257,-103.726C583.844,-94.6966 591.887,-85.1235 599.484,-76.0816\"/>\r\n",
       "<polygon fill=\"black\" stroke=\"black\" points=\"602.269,-78.2075 606.022,-68.2996 596.91,-73.7045 602.269,-78.2075\"/>\r\n",
       "</g>\r\n",
       "<!-- 10 -->\r\n",
       "<g id=\"node11\" class=\"node\"><title>10</title>\r\n",
       "<path fill=\"#e7fcf0\" stroke=\"black\" d=\"M1086,-187C1086,-187 934,-187 934,-187 928,-187 922,-181 922,-175 922,-175 922,-116 922,-116 922,-110 928,-104 934,-104 934,-104 1086,-104 1086,-104 1092,-104 1098,-110 1098,-116 1098,-116 1098,-175 1098,-175 1098,-181 1092,-187 1086,-187\"/>\r\n",
       "<text text-anchor=\"middle\" x=\"1010\" y=\"-171.8\" font-family=\"Helvetica,sans-Serif\" font-size=\"14.00\">fixed acidity &lt;= 0.553</text>\r\n",
       "<text text-anchor=\"middle\" x=\"1010\" y=\"-156.8\" font-family=\"Helvetica,sans-Serif\" font-size=\"14.00\">gini = 0.572</text>\r\n",
       "<text text-anchor=\"middle\" x=\"1010\" y=\"-141.8\" font-family=\"Helvetica,sans-Serif\" font-size=\"14.00\">samples = 186</text>\r\n",
       "<text text-anchor=\"middle\" x=\"1010\" y=\"-126.8\" font-family=\"Helvetica,sans-Serif\" font-size=\"14.00\">value = [1, 6, 92, 79, 7, 1]</text>\r\n",
       "<text text-anchor=\"middle\" x=\"1010\" y=\"-111.8\" font-family=\"Helvetica,sans-Serif\" font-size=\"14.00\">class = 6</text>\r\n",
       "</g>\r\n",
       "<!-- 9&#45;&gt;10 -->\r\n",
       "<g id=\"edge10\" class=\"edge\"><title>9&#45;&gt;10</title>\r\n",
       "<path fill=\"none\" stroke=\"black\" d=\"M1072.04,-222.907C1064.75,-213.923 1056.94,-204.315 1049.42,-195.05\"/>\r\n",
       "<polygon fill=\"black\" stroke=\"black\" points=\"1051.92,-192.578 1042.9,-187.021 1046.49,-196.99 1051.92,-192.578\"/>\r\n",
       "</g>\r\n",
       "<!-- 13 -->\r\n",
       "<g id=\"node14\" class=\"node\"><title>13</title>\r\n",
       "<path fill=\"#49e78b\" stroke=\"black\" d=\"M1272,-187C1272,-187 1128,-187 1128,-187 1122,-187 1116,-181 1116,-175 1116,-175 1116,-116 1116,-116 1116,-110 1122,-104 1128,-104 1128,-104 1272,-104 1272,-104 1278,-104 1284,-110 1284,-116 1284,-116 1284,-175 1284,-175 1284,-181 1278,-187 1272,-187\"/>\r\n",
       "<text text-anchor=\"middle\" x=\"1200\" y=\"-171.8\" font-family=\"Helvetica,sans-Serif\" font-size=\"14.00\">residual sugar &lt;= 0.048</text>\r\n",
       "<text text-anchor=\"middle\" x=\"1200\" y=\"-156.8\" font-family=\"Helvetica,sans-Serif\" font-size=\"14.00\">gini = 0.145</text>\r\n",
       "<text text-anchor=\"middle\" x=\"1200\" y=\"-141.8\" font-family=\"Helvetica,sans-Serif\" font-size=\"14.00\">samples = 39</text>\r\n",
       "<text text-anchor=\"middle\" x=\"1200\" y=\"-126.8\" font-family=\"Helvetica,sans-Serif\" font-size=\"14.00\">value = [0, 1, 36, 2, 0, 0]</text>\r\n",
       "<text text-anchor=\"middle\" x=\"1200\" y=\"-111.8\" font-family=\"Helvetica,sans-Serif\" font-size=\"14.00\">class = 6</text>\r\n",
       "</g>\r\n",
       "<!-- 9&#45;&gt;13 -->\r\n",
       "<g id=\"edge13\" class=\"edge\"><title>9&#45;&gt;13</title>\r\n",
       "<path fill=\"none\" stroke=\"black\" d=\"M1137.96,-222.907C1145.25,-213.923 1153.06,-204.315 1160.58,-195.05\"/>\r\n",
       "<polygon fill=\"black\" stroke=\"black\" points=\"1163.51,-196.99 1167.1,-187.021 1158.08,-192.578 1163.51,-196.99\"/>\r\n",
       "</g>\r\n",
       "<!-- 11 -->\r\n",
       "<g id=\"node12\" class=\"node\"><title>11</title>\r\n",
       "<path fill=\"#d1f9e2\" stroke=\"black\" d=\"M900,-68C900,-68 748,-68 748,-68 742,-68 736,-62 736,-56 736,-56 736,-12 736,-12 736,-6 742,-0 748,-0 748,-0 900,-0 900,-0 906,-0 912,-6 912,-12 912,-12 912,-56 912,-56 912,-62 906,-68 900,-68\"/>\r\n",
       "<text text-anchor=\"middle\" x=\"824\" y=\"-52.8\" font-family=\"Helvetica,sans-Serif\" font-size=\"14.00\">gini = 0.542</text>\r\n",
       "<text text-anchor=\"middle\" x=\"824\" y=\"-37.8\" font-family=\"Helvetica,sans-Serif\" font-size=\"14.00\">samples = 166</text>\r\n",
       "<text text-anchor=\"middle\" x=\"824\" y=\"-22.8\" font-family=\"Helvetica,sans-Serif\" font-size=\"14.00\">value = [1, 5, 90, 67, 3, 0]</text>\r\n",
       "<text text-anchor=\"middle\" x=\"824\" y=\"-7.8\" font-family=\"Helvetica,sans-Serif\" font-size=\"14.00\">class = 6</text>\r\n",
       "</g>\r\n",
       "<!-- 10&#45;&gt;11 -->\r\n",
       "<g id=\"edge11\" class=\"edge\"><title>10&#45;&gt;11</title>\r\n",
       "<path fill=\"none\" stroke=\"black\" d=\"M941.005,-103.882C923.925,-93.8269 905.686,-83.0892 888.814,-73.1563\"/>\r\n",
       "<polygon fill=\"black\" stroke=\"black\" points=\"890.522,-70.1005 880.128,-68.0433 886.97,-76.1328 890.522,-70.1005\"/>\r\n",
       "</g>\r\n",
       "<!-- 12 -->\r\n",
       "<g id=\"node13\" class=\"node\"><title>12</title>\r\n",
       "<path fill=\"#9ccef2\" stroke=\"black\" d=\"M1086,-68C1086,-68 942,-68 942,-68 936,-68 930,-62 930,-56 930,-56 930,-12 930,-12 930,-6 936,-0 942,-0 942,-0 1086,-0 1086,-0 1092,-0 1098,-6 1098,-12 1098,-12 1098,-56 1098,-56 1098,-62 1092,-68 1086,-68\"/>\r\n",
       "<text text-anchor=\"middle\" x=\"1014\" y=\"-52.8\" font-family=\"Helvetica,sans-Serif\" font-size=\"14.00\">gini = 0.585</text>\r\n",
       "<text text-anchor=\"middle\" x=\"1014\" y=\"-37.8\" font-family=\"Helvetica,sans-Serif\" font-size=\"14.00\">samples = 20</text>\r\n",
       "<text text-anchor=\"middle\" x=\"1014\" y=\"-22.8\" font-family=\"Helvetica,sans-Serif\" font-size=\"14.00\">value = [0, 1, 2, 12, 4, 1]</text>\r\n",
       "<text text-anchor=\"middle\" x=\"1014\" y=\"-7.8\" font-family=\"Helvetica,sans-Serif\" font-size=\"14.00\">class = 7</text>\r\n",
       "</g>\r\n",
       "<!-- 10&#45;&gt;12 -->\r\n",
       "<g id=\"edge12\" class=\"edge\"><title>10&#45;&gt;12</title>\r\n",
       "<path fill=\"none\" stroke=\"black\" d=\"M1011.49,-103.726C1011.79,-95.5175 1012.11,-86.8595 1012.41,-78.56\"/>\r\n",
       "<polygon fill=\"black\" stroke=\"black\" points=\"1015.92,-78.4207 1012.78,-68.2996 1008.92,-78.1651 1015.92,-78.4207\"/>\r\n",
       "</g>\r\n",
       "<!-- 14 -->\r\n",
       "<g id=\"node15\" class=\"node\"><title>14</title>\r\n",
       "<path fill=\"#9de539\" stroke=\"black\" d=\"M1264,-68C1264,-68 1128,-68 1128,-68 1122,-68 1116,-62 1116,-56 1116,-56 1116,-12 1116,-12 1116,-6 1122,-0 1128,-0 1128,-0 1264,-0 1264,-0 1270,-0 1276,-6 1276,-12 1276,-12 1276,-56 1276,-56 1276,-62 1270,-68 1264,-68\"/>\r\n",
       "<text text-anchor=\"middle\" x=\"1196\" y=\"-52.8\" font-family=\"Helvetica,sans-Serif\" font-size=\"14.00\">gini = 0.0</text>\r\n",
       "<text text-anchor=\"middle\" x=\"1196\" y=\"-37.8\" font-family=\"Helvetica,sans-Serif\" font-size=\"14.00\">samples = 1</text>\r\n",
       "<text text-anchor=\"middle\" x=\"1196\" y=\"-22.8\" font-family=\"Helvetica,sans-Serif\" font-size=\"14.00\">value = [0, 1, 0, 0, 0, 0]</text>\r\n",
       "<text text-anchor=\"middle\" x=\"1196\" y=\"-7.8\" font-family=\"Helvetica,sans-Serif\" font-size=\"14.00\">class = 5</text>\r\n",
       "</g>\r\n",
       "<!-- 13&#45;&gt;14 -->\r\n",
       "<g id=\"edge14\" class=\"edge\"><title>13&#45;&gt;14</title>\r\n",
       "<path fill=\"none\" stroke=\"black\" d=\"M1198.51,-103.726C1198.21,-95.5175 1197.89,-86.8595 1197.59,-78.56\"/>\r\n",
       "<polygon fill=\"black\" stroke=\"black\" points=\"1201.08,-78.1651 1197.22,-68.2996 1194.08,-78.4207 1201.08,-78.1651\"/>\r\n",
       "</g>\r\n",
       "<!-- 15 -->\r\n",
       "<g id=\"node16\" class=\"node\"><title>15</title>\r\n",
       "<path fill=\"#44e688\" stroke=\"black\" d=\"M1450,-68C1450,-68 1306,-68 1306,-68 1300,-68 1294,-62 1294,-56 1294,-56 1294,-12 1294,-12 1294,-6 1300,-0 1306,-0 1306,-0 1450,-0 1450,-0 1456,-0 1462,-6 1462,-12 1462,-12 1462,-56 1462,-56 1462,-62 1456,-68 1450,-68\"/>\r\n",
       "<text text-anchor=\"middle\" x=\"1378\" y=\"-52.8\" font-family=\"Helvetica,sans-Serif\" font-size=\"14.00\">gini = 0.1</text>\r\n",
       "<text text-anchor=\"middle\" x=\"1378\" y=\"-37.8\" font-family=\"Helvetica,sans-Serif\" font-size=\"14.00\">samples = 38</text>\r\n",
       "<text text-anchor=\"middle\" x=\"1378\" y=\"-22.8\" font-family=\"Helvetica,sans-Serif\" font-size=\"14.00\">value = [0, 0, 36, 2, 0, 0]</text>\r\n",
       "<text text-anchor=\"middle\" x=\"1378\" y=\"-7.8\" font-family=\"Helvetica,sans-Serif\" font-size=\"14.00\">class = 6</text>\r\n",
       "</g>\r\n",
       "<!-- 13&#45;&gt;15 -->\r\n",
       "<g id=\"edge15\" class=\"edge\"><title>13&#45;&gt;15</title>\r\n",
       "<path fill=\"none\" stroke=\"black\" d=\"M1266.03,-103.882C1282.22,-93.9191 1299.51,-83.2862 1315.53,-73.4299\"/>\r\n",
       "<polygon fill=\"black\" stroke=\"black\" points=\"1317.6,-76.2641 1324.29,-68.0433 1313.93,-70.3019 1317.6,-76.2641\"/>\r\n",
       "</g>\r\n",
       "<!-- 17 -->\r\n",
       "<g id=\"node18\" class=\"node\"><title>17</title>\r\n",
       "<path fill=\"#e0f0fb\" stroke=\"black\" d=\"M1939.5,-306C1939.5,-306 1754.5,-306 1754.5,-306 1748.5,-306 1742.5,-300 1742.5,-294 1742.5,-294 1742.5,-235 1742.5,-235 1742.5,-229 1748.5,-223 1754.5,-223 1754.5,-223 1939.5,-223 1939.5,-223 1945.5,-223 1951.5,-229 1951.5,-235 1951.5,-235 1951.5,-294 1951.5,-294 1951.5,-300 1945.5,-306 1939.5,-306\"/>\r\n",
       "<text text-anchor=\"middle\" x=\"1847\" y=\"-290.8\" font-family=\"Helvetica,sans-Serif\" font-size=\"14.00\">sulphates &lt;= 0.159</text>\r\n",
       "<text text-anchor=\"middle\" x=\"1847\" y=\"-275.8\" font-family=\"Helvetica,sans-Serif\" font-size=\"14.00\">gini = 0.637</text>\r\n",
       "<text text-anchor=\"middle\" x=\"1847\" y=\"-260.8\" font-family=\"Helvetica,sans-Serif\" font-size=\"14.00\">samples = 285</text>\r\n",
       "<text text-anchor=\"middle\" x=\"1847\" y=\"-245.8\" font-family=\"Helvetica,sans-Serif\" font-size=\"14.00\">value = [4, 10, 104, 132, 34, 1]</text>\r\n",
       "<text text-anchor=\"middle\" x=\"1847\" y=\"-230.8\" font-family=\"Helvetica,sans-Serif\" font-size=\"14.00\">class = 7</text>\r\n",
       "</g>\r\n",
       "<!-- 16&#45;&gt;17 -->\r\n",
       "<g id=\"edge17\" class=\"edge\"><title>16&#45;&gt;17</title>\r\n",
       "<path fill=\"none\" stroke=\"black\" d=\"M1847,-341.907C1847,-333.649 1847,-324.864 1847,-316.302\"/>\r\n",
       "<polygon fill=\"black\" stroke=\"black\" points=\"1850.5,-316.021 1847,-306.021 1843.5,-316.021 1850.5,-316.021\"/>\r\n",
       "</g>\r\n",
       "<!-- 24 -->\r\n",
       "<g id=\"node25\" class=\"node\"><title>24</title>\r\n",
       "<path fill=\"#bfdff7\" stroke=\"black\" d=\"M2518.5,-306C2518.5,-306 2333.5,-306 2333.5,-306 2327.5,-306 2321.5,-300 2321.5,-294 2321.5,-294 2321.5,-235 2321.5,-235 2321.5,-229 2327.5,-223 2333.5,-223 2333.5,-223 2518.5,-223 2518.5,-223 2524.5,-223 2530.5,-229 2530.5,-235 2530.5,-235 2530.5,-294 2530.5,-294 2530.5,-300 2524.5,-306 2518.5,-306\"/>\r\n",
       "<text text-anchor=\"middle\" x=\"2426\" y=\"-290.8\" font-family=\"Helvetica,sans-Serif\" font-size=\"14.00\">sulphates &lt;= 0.219</text>\r\n",
       "<text text-anchor=\"middle\" x=\"2426\" y=\"-275.8\" font-family=\"Helvetica,sans-Serif\" font-size=\"14.00\">gini = 0.626</text>\r\n",
       "<text text-anchor=\"middle\" x=\"2426\" y=\"-260.8\" font-family=\"Helvetica,sans-Serif\" font-size=\"14.00\">samples = 254</text>\r\n",
       "<text text-anchor=\"middle\" x=\"2426\" y=\"-245.8\" font-family=\"Helvetica,sans-Serif\" font-size=\"14.00\">value = [0, 11, 25, 133, 75, 10]</text>\r\n",
       "<text text-anchor=\"middle\" x=\"2426\" y=\"-230.8\" font-family=\"Helvetica,sans-Serif\" font-size=\"14.00\">class = 7</text>\r\n",
       "</g>\r\n",
       "<!-- 16&#45;&gt;24 -->\r\n",
       "<g id=\"edge24\" class=\"edge\"><title>16&#45;&gt;24</title>\r\n",
       "<path fill=\"none\" stroke=\"black\" d=\"M1960.01,-359.663C2061.29,-339.197 2209.18,-309.314 2311.05,-288.729\"/>\r\n",
       "<polygon fill=\"black\" stroke=\"black\" points=\"2311.96,-292.115 2321.07,-286.704 2310.57,-285.254 2311.96,-292.115\"/>\r\n",
       "</g>\r\n",
       "<!-- 18 -->\r\n",
       "<g id=\"node19\" class=\"node\"><title>18</title>\r\n",
       "<path fill=\"#b2f5ce\" stroke=\"black\" d=\"M1822,-187C1822,-187 1670,-187 1670,-187 1664,-187 1658,-181 1658,-175 1658,-175 1658,-116 1658,-116 1658,-110 1664,-104 1670,-104 1670,-104 1822,-104 1822,-104 1828,-104 1834,-110 1834,-116 1834,-116 1834,-175 1834,-175 1834,-181 1828,-187 1822,-187\"/>\r\n",
       "<text text-anchor=\"middle\" x=\"1746\" y=\"-171.8\" font-family=\"Helvetica,sans-Serif\" font-size=\"14.00\">volatile acidity &lt;= 0.168</text>\r\n",
       "<text text-anchor=\"middle\" x=\"1746\" y=\"-156.8\" font-family=\"Helvetica,sans-Serif\" font-size=\"14.00\">gini = 0.566</text>\r\n",
       "<text text-anchor=\"middle\" x=\"1746\" y=\"-141.8\" font-family=\"Helvetica,sans-Serif\" font-size=\"14.00\">samples = 97</text>\r\n",
       "<text text-anchor=\"middle\" x=\"1746\" y=\"-126.8\" font-family=\"Helvetica,sans-Serif\" font-size=\"14.00\">value = [3, 5, 56, 30, 3, 0]</text>\r\n",
       "<text text-anchor=\"middle\" x=\"1746\" y=\"-111.8\" font-family=\"Helvetica,sans-Serif\" font-size=\"14.00\">class = 6</text>\r\n",
       "</g>\r\n",
       "<!-- 17&#45;&gt;18 -->\r\n",
       "<g id=\"edge18\" class=\"edge\"><title>17&#45;&gt;18</title>\r\n",
       "<path fill=\"none\" stroke=\"black\" d=\"M1811.96,-222.907C1804.12,-213.832 1795.74,-204.121 1787.67,-194.769\"/>\r\n",
       "<polygon fill=\"black\" stroke=\"black\" points=\"1790.16,-192.303 1780.98,-187.021 1784.86,-196.878 1790.16,-192.303\"/>\r\n",
       "</g>\r\n",
       "<!-- 21 -->\r\n",
       "<g id=\"node22\" class=\"node\"><title>21</title>\r\n",
       "<path fill=\"#b3d9f5\" stroke=\"black\" d=\"M2033.5,-187C2033.5,-187 1864.5,-187 1864.5,-187 1858.5,-187 1852.5,-181 1852.5,-175 1852.5,-175 1852.5,-116 1852.5,-116 1852.5,-110 1858.5,-104 1864.5,-104 1864.5,-104 2033.5,-104 2033.5,-104 2039.5,-104 2045.5,-110 2045.5,-116 2045.5,-116 2045.5,-175 2045.5,-175 2045.5,-181 2039.5,-187 2033.5,-187\"/>\r\n",
       "<text text-anchor=\"middle\" x=\"1949\" y=\"-171.8\" font-family=\"Helvetica,sans-Serif\" font-size=\"14.00\">total sulfur dioxide &lt;= 0.274</text>\r\n",
       "<text text-anchor=\"middle\" x=\"1949\" y=\"-156.8\" font-family=\"Helvetica,sans-Serif\" font-size=\"14.00\">gini = 0.612</text>\r\n",
       "<text text-anchor=\"middle\" x=\"1949\" y=\"-141.8\" font-family=\"Helvetica,sans-Serif\" font-size=\"14.00\">samples = 188</text>\r\n",
       "<text text-anchor=\"middle\" x=\"1949\" y=\"-126.8\" font-family=\"Helvetica,sans-Serif\" font-size=\"14.00\">value = [1, 5, 48, 102, 31, 1]</text>\r\n",
       "<text text-anchor=\"middle\" x=\"1949\" y=\"-111.8\" font-family=\"Helvetica,sans-Serif\" font-size=\"14.00\">class = 7</text>\r\n",
       "</g>\r\n",
       "<!-- 17&#45;&gt;21 -->\r\n",
       "<g id=\"edge21\" class=\"edge\"><title>17&#45;&gt;21</title>\r\n",
       "<path fill=\"none\" stroke=\"black\" d=\"M1882.39,-222.907C1890.3,-213.832 1898.77,-204.121 1906.92,-194.769\"/>\r\n",
       "<polygon fill=\"black\" stroke=\"black\" points=\"1909.74,-196.859 1913.67,-187.021 1904.46,-192.259 1909.74,-196.859\"/>\r\n",
       "</g>\r\n",
       "<!-- 19 -->\r\n",
       "<g id=\"node20\" class=\"node\"><title>19</title>\r\n",
       "<path fill=\"#91c9f1\" stroke=\"black\" d=\"M1628,-68C1628,-68 1492,-68 1492,-68 1486,-68 1480,-62 1480,-56 1480,-56 1480,-12 1480,-12 1480,-6 1486,-0 1492,-0 1492,-0 1628,-0 1628,-0 1634,-0 1640,-6 1640,-12 1640,-12 1640,-56 1640,-56 1640,-62 1634,-68 1628,-68\"/>\r\n",
       "<text text-anchor=\"middle\" x=\"1560\" y=\"-52.8\" font-family=\"Helvetica,sans-Serif\" font-size=\"14.00\">gini = 0.486</text>\r\n",
       "<text text-anchor=\"middle\" x=\"1560\" y=\"-37.8\" font-family=\"Helvetica,sans-Serif\" font-size=\"14.00\">samples = 12</text>\r\n",
       "<text text-anchor=\"middle\" x=\"1560\" y=\"-22.8\" font-family=\"Helvetica,sans-Serif\" font-size=\"14.00\">value = [0, 1, 3, 8, 0, 0]</text>\r\n",
       "<text text-anchor=\"middle\" x=\"1560\" y=\"-7.8\" font-family=\"Helvetica,sans-Serif\" font-size=\"14.00\">class = 7</text>\r\n",
       "</g>\r\n",
       "<!-- 18&#45;&gt;19 -->\r\n",
       "<g id=\"edge19\" class=\"edge\"><title>18&#45;&gt;19</title>\r\n",
       "<path fill=\"none\" stroke=\"black\" d=\"M1677,-103.882C1659.93,-93.8269 1641.69,-83.0892 1624.81,-73.1563\"/>\r\n",
       "<polygon fill=\"black\" stroke=\"black\" points=\"1626.52,-70.1005 1616.13,-68.0433 1622.97,-76.1328 1626.52,-70.1005\"/>\r\n",
       "</g>\r\n",
       "<!-- 20 -->\r\n",
       "<g id=\"node21\" class=\"node\"><title>20</title>\r\n",
       "<path fill=\"#9ef2c1\" stroke=\"black\" d=\"M1822,-68C1822,-68 1670,-68 1670,-68 1664,-68 1658,-62 1658,-56 1658,-56 1658,-12 1658,-12 1658,-6 1664,-0 1670,-0 1670,-0 1822,-0 1822,-0 1828,-0 1834,-6 1834,-12 1834,-12 1834,-56 1834,-56 1834,-62 1828,-68 1822,-68\"/>\r\n",
       "<text text-anchor=\"middle\" x=\"1746\" y=\"-52.8\" font-family=\"Helvetica,sans-Serif\" font-size=\"14.00\">gini = 0.54</text>\r\n",
       "<text text-anchor=\"middle\" x=\"1746\" y=\"-37.8\" font-family=\"Helvetica,sans-Serif\" font-size=\"14.00\">samples = 85</text>\r\n",
       "<text text-anchor=\"middle\" x=\"1746\" y=\"-22.8\" font-family=\"Helvetica,sans-Serif\" font-size=\"14.00\">value = [3, 4, 53, 22, 3, 0]</text>\r\n",
       "<text text-anchor=\"middle\" x=\"1746\" y=\"-7.8\" font-family=\"Helvetica,sans-Serif\" font-size=\"14.00\">class = 6</text>\r\n",
       "</g>\r\n",
       "<!-- 18&#45;&gt;20 -->\r\n",
       "<g id=\"edge20\" class=\"edge\"><title>18&#45;&gt;20</title>\r\n",
       "<path fill=\"none\" stroke=\"black\" d=\"M1746,-103.726C1746,-95.5175 1746,-86.8595 1746,-78.56\"/>\r\n",
       "<polygon fill=\"black\" stroke=\"black\" points=\"1749.5,-78.2996 1746,-68.2996 1742.5,-78.2996 1749.5,-78.2996\"/>\r\n",
       "</g>\r\n",
       "<!-- 22 -->\r\n",
       "<g id=\"node23\" class=\"node\"><title>22</title>\r\n",
       "<path fill=\"#a6d3f3\" stroke=\"black\" d=\"M2033.5,-68C2033.5,-68 1864.5,-68 1864.5,-68 1858.5,-68 1852.5,-62 1852.5,-56 1852.5,-56 1852.5,-12 1852.5,-12 1852.5,-6 1858.5,-0 1864.5,-0 1864.5,-0 2033.5,-0 2033.5,-0 2039.5,-0 2045.5,-6 2045.5,-12 2045.5,-12 2045.5,-56 2045.5,-56 2045.5,-62 2039.5,-68 2033.5,-68\"/>\r\n",
       "<text text-anchor=\"middle\" x=\"1949\" y=\"-52.8\" font-family=\"Helvetica,sans-Serif\" font-size=\"14.00\">gini = 0.596</text>\r\n",
       "<text text-anchor=\"middle\" x=\"1949\" y=\"-37.8\" font-family=\"Helvetica,sans-Serif\" font-size=\"14.00\">samples = 177</text>\r\n",
       "<text text-anchor=\"middle\" x=\"1949\" y=\"-22.8\" font-family=\"Helvetica,sans-Serif\" font-size=\"14.00\">value = [1, 5, 39, 101, 30, 1]</text>\r\n",
       "<text text-anchor=\"middle\" x=\"1949\" y=\"-7.8\" font-family=\"Helvetica,sans-Serif\" font-size=\"14.00\">class = 7</text>\r\n",
       "</g>\r\n",
       "<!-- 21&#45;&gt;22 -->\r\n",
       "<g id=\"edge22\" class=\"edge\"><title>21&#45;&gt;22</title>\r\n",
       "<path fill=\"none\" stroke=\"black\" d=\"M1949,-103.726C1949,-95.5175 1949,-86.8595 1949,-78.56\"/>\r\n",
       "<polygon fill=\"black\" stroke=\"black\" points=\"1952.5,-78.2996 1949,-68.2996 1945.5,-78.2996 1952.5,-78.2996\"/>\r\n",
       "</g>\r\n",
       "<!-- 23 -->\r\n",
       "<g id=\"node24\" class=\"node\"><title>23</title>\r\n",
       "<path fill=\"#61ea9a\" stroke=\"black\" d=\"M2212,-68C2212,-68 2076,-68 2076,-68 2070,-68 2064,-62 2064,-56 2064,-56 2064,-12 2064,-12 2064,-6 2070,-0 2076,-0 2076,-0 2212,-0 2212,-0 2218,-0 2224,-6 2224,-12 2224,-12 2224,-56 2224,-56 2224,-62 2218,-68 2212,-68\"/>\r\n",
       "<text text-anchor=\"middle\" x=\"2144\" y=\"-52.8\" font-family=\"Helvetica,sans-Serif\" font-size=\"14.00\">gini = 0.314</text>\r\n",
       "<text text-anchor=\"middle\" x=\"2144\" y=\"-37.8\" font-family=\"Helvetica,sans-Serif\" font-size=\"14.00\">samples = 11</text>\r\n",
       "<text text-anchor=\"middle\" x=\"2144\" y=\"-22.8\" font-family=\"Helvetica,sans-Serif\" font-size=\"14.00\">value = [0, 0, 9, 1, 1, 0]</text>\r\n",
       "<text text-anchor=\"middle\" x=\"2144\" y=\"-7.8\" font-family=\"Helvetica,sans-Serif\" font-size=\"14.00\">class = 6</text>\r\n",
       "</g>\r\n",
       "<!-- 21&#45;&gt;23 -->\r\n",
       "<g id=\"edge23\" class=\"edge\"><title>21&#45;&gt;23</title>\r\n",
       "<path fill=\"none\" stroke=\"black\" d=\"M2021.33,-103.882C2039.24,-93.8269 2058.36,-83.0892 2076.05,-73.1563\"/>\r\n",
       "<polygon fill=\"black\" stroke=\"black\" points=\"2078.15,-75.9914 2085.16,-68.0433 2074.72,-69.8878 2078.15,-75.9914\"/>\r\n",
       "</g>\r\n",
       "<!-- 25 -->\r\n",
       "<g id=\"node26\" class=\"node\"><title>25</title>\r\n",
       "<path fill=\"#99ccf2\" stroke=\"black\" d=\"M2510.5,-187C2510.5,-187 2341.5,-187 2341.5,-187 2335.5,-187 2329.5,-181 2329.5,-175 2329.5,-175 2329.5,-116 2329.5,-116 2329.5,-110 2335.5,-104 2341.5,-104 2341.5,-104 2510.5,-104 2510.5,-104 2516.5,-104 2522.5,-110 2522.5,-116 2522.5,-116 2522.5,-175 2522.5,-175 2522.5,-181 2516.5,-187 2510.5,-187\"/>\r\n",
       "<text text-anchor=\"middle\" x=\"2426\" y=\"-171.8\" font-family=\"Helvetica,sans-Serif\" font-size=\"14.00\">residual sugar &lt;= 0.147</text>\r\n",
       "<text text-anchor=\"middle\" x=\"2426\" y=\"-156.8\" font-family=\"Helvetica,sans-Serif\" font-size=\"14.00\">gini = 0.576</text>\r\n",
       "<text text-anchor=\"middle\" x=\"2426\" y=\"-141.8\" font-family=\"Helvetica,sans-Serif\" font-size=\"14.00\">samples = 145</text>\r\n",
       "<text text-anchor=\"middle\" x=\"2426\" y=\"-126.8\" font-family=\"Helvetica,sans-Serif\" font-size=\"14.00\">value = [0, 11, 18, 88, 27, 1]</text>\r\n",
       "<text text-anchor=\"middle\" x=\"2426\" y=\"-111.8\" font-family=\"Helvetica,sans-Serif\" font-size=\"14.00\">class = 7</text>\r\n",
       "</g>\r\n",
       "<!-- 24&#45;&gt;25 -->\r\n",
       "<g id=\"edge25\" class=\"edge\"><title>24&#45;&gt;25</title>\r\n",
       "<path fill=\"none\" stroke=\"black\" d=\"M2426,-222.907C2426,-214.649 2426,-205.864 2426,-197.302\"/>\r\n",
       "<polygon fill=\"black\" stroke=\"black\" points=\"2429.5,-197.021 2426,-187.021 2422.5,-197.021 2429.5,-197.021\"/>\r\n",
       "</g>\r\n",
       "<!-- 28 -->\r\n",
       "<g id=\"node29\" class=\"node\"><title>28</title>\r\n",
       "<path fill=\"#f9f6fe\" stroke=\"black\" d=\"M2796,-187C2796,-187 2644,-187 2644,-187 2638,-187 2632,-181 2632,-175 2632,-175 2632,-116 2632,-116 2632,-110 2638,-104 2644,-104 2644,-104 2796,-104 2796,-104 2802,-104 2808,-110 2808,-116 2808,-116 2808,-175 2808,-175 2808,-181 2802,-187 2796,-187\"/>\r\n",
       "<text text-anchor=\"middle\" x=\"2720\" y=\"-171.8\" font-family=\"Helvetica,sans-Serif\" font-size=\"14.00\">alcohol &lt;= 0.5</text>\r\n",
       "<text text-anchor=\"middle\" x=\"2720\" y=\"-156.8\" font-family=\"Helvetica,sans-Serif\" font-size=\"14.00\">gini = 0.625</text>\r\n",
       "<text text-anchor=\"middle\" x=\"2720\" y=\"-141.8\" font-family=\"Helvetica,sans-Serif\" font-size=\"14.00\">samples = 109</text>\r\n",
       "<text text-anchor=\"middle\" x=\"2720\" y=\"-126.8\" font-family=\"Helvetica,sans-Serif\" font-size=\"14.00\">value = [0, 0, 7, 45, 48, 9]</text>\r\n",
       "<text text-anchor=\"middle\" x=\"2720\" y=\"-111.8\" font-family=\"Helvetica,sans-Serif\" font-size=\"14.00\">class = 8</text>\r\n",
       "</g>\r\n",
       "<!-- 24&#45;&gt;28 -->\r\n",
       "<g id=\"edge28\" class=\"edge\"><title>24&#45;&gt;28</title>\r\n",
       "<path fill=\"none\" stroke=\"black\" d=\"M2528,-222.907C2558.66,-210.706 2592.21,-197.353 2622.57,-185.272\"/>\r\n",
       "<polygon fill=\"black\" stroke=\"black\" points=\"2623.89,-188.516 2631.88,-181.567 2621.3,-182.012 2623.89,-188.516\"/>\r\n",
       "</g>\r\n",
       "<!-- 26 -->\r\n",
       "<g id=\"node27\" class=\"node\"><title>26</title>\r\n",
       "<path fill=\"#83c2ef\" stroke=\"black\" d=\"M2415.5,-68C2415.5,-68 2254.5,-68 2254.5,-68 2248.5,-68 2242.5,-62 2242.5,-56 2242.5,-56 2242.5,-12 2242.5,-12 2242.5,-6 2248.5,-0 2254.5,-0 2254.5,-0 2415.5,-0 2415.5,-0 2421.5,-0 2427.5,-6 2427.5,-12 2427.5,-12 2427.5,-56 2427.5,-56 2427.5,-62 2421.5,-68 2415.5,-68\"/>\r\n",
       "<text text-anchor=\"middle\" x=\"2335\" y=\"-52.8\" font-family=\"Helvetica,sans-Serif\" font-size=\"14.00\">gini = 0.497</text>\r\n",
       "<text text-anchor=\"middle\" x=\"2335\" y=\"-37.8\" font-family=\"Helvetica,sans-Serif\" font-size=\"14.00\">samples = 119</text>\r\n",
       "<text text-anchor=\"middle\" x=\"2335\" y=\"-22.8\" font-family=\"Helvetica,sans-Serif\" font-size=\"14.00\">value = [0, 4, 16, 81, 17, 1]</text>\r\n",
       "<text text-anchor=\"middle\" x=\"2335\" y=\"-7.8\" font-family=\"Helvetica,sans-Serif\" font-size=\"14.00\">class = 7</text>\r\n",
       "</g>\r\n",
       "<!-- 25&#45;&gt;26 -->\r\n",
       "<g id=\"edge26\" class=\"edge\"><title>25&#45;&gt;26</title>\r\n",
       "<path fill=\"none\" stroke=\"black\" d=\"M2392.11,-103.726C2384.61,-94.6966 2376.66,-85.1235 2369.14,-76.0816\"/>\r\n",
       "<polygon fill=\"black\" stroke=\"black\" points=\"2371.76,-73.7534 2362.67,-68.2996 2366.37,-78.2275 2371.76,-73.7534\"/>\r\n",
       "</g>\r\n",
       "<!-- 27 -->\r\n",
       "<g id=\"node28\" class=\"node\"><title>27</title>\r\n",
       "<path fill=\"#ebe0fb\" stroke=\"black\" d=\"M2602,-68C2602,-68 2458,-68 2458,-68 2452,-68 2446,-62 2446,-56 2446,-56 2446,-12 2446,-12 2446,-6 2452,-0 2458,-0 2458,-0 2602,-0 2602,-0 2608,-0 2614,-6 2614,-12 2614,-12 2614,-56 2614,-56 2614,-62 2608,-68 2602,-68\"/>\r\n",
       "<text text-anchor=\"middle\" x=\"2530\" y=\"-52.8\" font-family=\"Helvetica,sans-Serif\" font-size=\"14.00\">gini = 0.701</text>\r\n",
       "<text text-anchor=\"middle\" x=\"2530\" y=\"-37.8\" font-family=\"Helvetica,sans-Serif\" font-size=\"14.00\">samples = 26</text>\r\n",
       "<text text-anchor=\"middle\" x=\"2530\" y=\"-22.8\" font-family=\"Helvetica,sans-Serif\" font-size=\"14.00\">value = [0, 7, 2, 7, 10, 0]</text>\r\n",
       "<text text-anchor=\"middle\" x=\"2530\" y=\"-7.8\" font-family=\"Helvetica,sans-Serif\" font-size=\"14.00\">class = 8</text>\r\n",
       "</g>\r\n",
       "<!-- 25&#45;&gt;27 -->\r\n",
       "<g id=\"edge27\" class=\"edge\"><title>25&#45;&gt;27</title>\r\n",
       "<path fill=\"none\" stroke=\"black\" d=\"M2464.73,-103.726C2473.39,-94.6054 2482.58,-84.93 2491.24,-75.8078\"/>\r\n",
       "<polygon fill=\"black\" stroke=\"black\" points=\"2494.02,-77.9608 2498.37,-68.2996 2488.95,-73.1401 2494.02,-77.9608\"/>\r\n",
       "</g>\r\n",
       "<!-- 29 -->\r\n",
       "<g id=\"node30\" class=\"node\"><title>29</title>\r\n",
       "<path fill=\"#a8d4f4\" stroke=\"black\" d=\"M2796,-68C2796,-68 2644,-68 2644,-68 2638,-68 2632,-62 2632,-56 2632,-56 2632,-12 2632,-12 2632,-6 2638,-0 2644,-0 2644,-0 2796,-0 2796,-0 2802,-0 2808,-6 2808,-12 2808,-12 2808,-56 2808,-56 2808,-62 2802,-68 2796,-68\"/>\r\n",
       "<text text-anchor=\"middle\" x=\"2720\" y=\"-52.8\" font-family=\"Helvetica,sans-Serif\" font-size=\"14.00\">gini = 0.587</text>\r\n",
       "<text text-anchor=\"middle\" x=\"2720\" y=\"-37.8\" font-family=\"Helvetica,sans-Serif\" font-size=\"14.00\">samples = 45</text>\r\n",
       "<text text-anchor=\"middle\" x=\"2720\" y=\"-22.8\" font-family=\"Helvetica,sans-Serif\" font-size=\"14.00\">value = [0, 0, 6, 26, 11, 2]</text>\r\n",
       "<text text-anchor=\"middle\" x=\"2720\" y=\"-7.8\" font-family=\"Helvetica,sans-Serif\" font-size=\"14.00\">class = 7</text>\r\n",
       "</g>\r\n",
       "<!-- 28&#45;&gt;29 -->\r\n",
       "<g id=\"edge29\" class=\"edge\"><title>28&#45;&gt;29</title>\r\n",
       "<path fill=\"none\" stroke=\"black\" d=\"M2720,-103.726C2720,-95.5175 2720,-86.8595 2720,-78.56\"/>\r\n",
       "<polygon fill=\"black\" stroke=\"black\" points=\"2723.5,-78.2996 2720,-68.2996 2716.5,-78.2996 2723.5,-78.2996\"/>\r\n",
       "</g>\r\n",
       "<!-- 30 -->\r\n",
       "<g id=\"node31\" class=\"node\"><title>30</title>\r\n",
       "<path fill=\"#cdb0f5\" stroke=\"black\" d=\"M2990,-68C2990,-68 2838,-68 2838,-68 2832,-68 2826,-62 2826,-56 2826,-56 2826,-12 2826,-12 2826,-6 2832,-0 2838,-0 2838,-0 2990,-0 2990,-0 2996,-0 3002,-6 3002,-12 3002,-12 3002,-56 3002,-56 3002,-62 2996,-68 2990,-68\"/>\r\n",
       "<text text-anchor=\"middle\" x=\"2914\" y=\"-52.8\" font-family=\"Helvetica,sans-Serif\" font-size=\"14.00\">gini = 0.565</text>\r\n",
       "<text text-anchor=\"middle\" x=\"2914\" y=\"-37.8\" font-family=\"Helvetica,sans-Serif\" font-size=\"14.00\">samples = 64</text>\r\n",
       "<text text-anchor=\"middle\" x=\"2914\" y=\"-22.8\" font-family=\"Helvetica,sans-Serif\" font-size=\"14.00\">value = [0, 0, 1, 19, 37, 7]</text>\r\n",
       "<text text-anchor=\"middle\" x=\"2914\" y=\"-7.8\" font-family=\"Helvetica,sans-Serif\" font-size=\"14.00\">class = 8</text>\r\n",
       "</g>\r\n",
       "<!-- 28&#45;&gt;30 -->\r\n",
       "<g id=\"edge30\" class=\"edge\"><title>28&#45;&gt;30</title>\r\n",
       "<path fill=\"none\" stroke=\"black\" d=\"M2791.96,-103.882C2809.78,-93.8269 2828.8,-83.0892 2846.4,-73.1563\"/>\r\n",
       "<polygon fill=\"black\" stroke=\"black\" points=\"2848.47,-76.0068 2855.46,-68.0433 2845.03,-69.9108 2848.47,-76.0068\"/>\r\n",
       "</g>\r\n",
       "</g>\r\n",
       "</svg>\r\n"
      ],
      "text/plain": [
       "<graphviz.files.Source at 0x28b38d93c70>"
      ]
     },
     "execution_count": 34,
     "metadata": {},
     "output_type": "execute_result"
    }
   ],
   "source": [
    "#visualizing the tree\n",
    "import os\n",
    "from sklearn.tree import export_graphviz\n",
    "\n",
    "os.environ['PATH']=';'+r'C:/ProgramData/Anaconda3/Library/bin/graphviz'\n",
    "import graphviz\n",
    "tree=export_graphviz(clf, out_file=None,\n",
    "                     feature_names=X.columns,\n",
    "                     class_names=['4', '5', '6', '7', '8'],\n",
    "                     filled=True, rounded=True)\n",
    "tree_graph=graphviz.Source(tree)\n",
    "tree_graph"
   ]
  },
  {
   "cell_type": "code",
   "execution_count": 35,
   "metadata": {},
   "outputs": [
    {
     "name": "stdout",
     "output_type": "stream",
     "text": [
      "Tuned: {'ccp_alpha': 0.01, 'criterion': 'entropy', 'max_depth': 5, 'max_features': 'auto'}\n",
      "Mean of the cv scores: 0.5520504731861199\n",
      "Train Score: 0.6077812828601472\n",
      "Test Score: 0.5686274509803921\n"
     ]
    }
   ],
   "source": [
    "## Hyperparameter Tuning\n",
    "from sklearn.model_selection import GridSearchCV\n",
    "\n",
    "param_dict={'criterion':['gini','entropy'],\n",
    "    'max_depth':range(1,10,2),\n",
    "            'max_features':['auto','sqrt','log2'],\n",
    "           'ccp_alpha':[0.00001,0.001,0.01,0.1,1,2]}\n",
    "tree_model=DecisionTreeClassifier(random_state=42)\n",
    "\n",
    "gcv=GridSearchCV(tree_model,param_dict,cv=3)\n",
    "gcv.fit(x_train,y_train)\n",
    "print('Tuned:',gcv.best_params_)\n",
    "print(\"Mean of the cv scores:\",gcv.best_score_)\n",
    "print(\"Train Score:\",gcv.score(x_train,y_train))\n",
    "print(\"Test Score:\",gcv.score(x_test,y_test))"
   ]
  },
  {
   "cell_type": "markdown",
   "metadata": {},
   "source": [
    "#### Using KNearestNeighbours"
   ]
  },
  {
   "cell_type": "code",
   "execution_count": 36,
   "metadata": {},
   "outputs": [],
   "source": [
    "# importing the model\n",
    "from sklearn.neighbors import KNeighborsClassifier"
   ]
  },
  {
   "cell_type": "code",
   "execution_count": 37,
   "metadata": {},
   "outputs": [],
   "source": [
    "# initialising the model\n",
    "knn=KNeighborsClassifier(n_neighbors=3)"
   ]
  },
  {
   "cell_type": "code",
   "execution_count": 38,
   "metadata": {},
   "outputs": [
    {
     "data": {
      "text/plain": [
       "KNeighborsClassifier(n_neighbors=3)"
      ]
     },
     "execution_count": 38,
     "metadata": {},
     "output_type": "execute_result"
    }
   ],
   "source": [
    "# training the data\n",
    "knn.fit(x_train,y_train)"
   ]
  },
  {
   "cell_type": "code",
   "execution_count": 39,
   "metadata": {},
   "outputs": [
    {
     "name": "stdout",
     "output_type": "stream",
     "text": [
      "Accuracy on train data: 0.7486855941114616\n",
      "Precision on train data: 0.7033320297453908\n",
      "F1 score on train data: 0.5705487557489691\n",
      "Recall on train data: 0.5458532996389722\n"
     ]
    }
   ],
   "source": [
    "# testing the model on train data\n",
    "x_train_pred=knn.predict(x_train)\n",
    "\n",
    "# checking its accuracy\n",
    "acc_train=accuracy_score(y_train,x_train_pred)\n",
    "pre_train=precision_score(y_train,x_train_pred,average='macro')\n",
    "f1_train=f1_score(y_train,x_train_pred,average='macro')\n",
    "recall_train=recall_score(y_train,x_train_pred,average='macro')\n",
    "print('Accuracy on train data:',acc_train)\n",
    "print('Precision on train data:',pre_train)\n",
    "print('F1 score on train data:',f1_train)\n",
    "print('Recall on train data:',recall_train)"
   ]
  },
  {
   "cell_type": "code",
   "execution_count": 40,
   "metadata": {},
   "outputs": [
    {
     "name": "stdout",
     "output_type": "stream",
     "text": [
      "Accuracy on test data: 0.7486855941114616\n",
      "Precision on test data: 0.7033320297453908\n",
      "F1 score on test data: 0.5705487557489691\n",
      "Recall on test data: 0.5458532996389722\n"
     ]
    }
   ],
   "source": [
    "# testing the model on test data\n",
    "x_test_pred=knn.predict(x_test)\n",
    "\n",
    "# checking its accuracy\n",
    "acc_test=accuracy_score(y_test,x_test_pred)\n",
    "pre_test=precision_score(y_test,x_test_pred,average='macro')\n",
    "f1_test=f1_score(y_test,x_test_pred,average='macro')\n",
    "recall_test=recall_score(y_test,x_test_pred,average='macro')\n",
    "print('Accuracy on test data:',acc_train)\n",
    "print('Precision on test data:',pre_train)\n",
    "print('F1 score on test data:',f1_train)\n",
    "print('Recall on test data:',recall_train)"
   ]
  },
  {
   "cell_type": "code",
   "execution_count": 41,
   "metadata": {},
   "outputs": [
    {
     "name": "stdout",
     "output_type": "stream",
     "text": [
      "Classification Report:               precision    recall  f1-score   support\n",
      "\n",
      "           3       0.50      0.33      0.40         3\n",
      "           4       0.00      0.00      0.00        16\n",
      "           5       0.56      0.66      0.61       173\n",
      "           6       0.49      0.44      0.47       161\n",
      "           7       0.51      0.42      0.46        50\n",
      "           8       0.00      0.00      0.00         5\n",
      "\n",
      "    accuracy                           0.51       408\n",
      "   macro avg       0.34      0.31      0.32       408\n",
      "weighted avg       0.50      0.51      0.50       408\n",
      "\n"
     ]
    }
   ],
   "source": [
    "print('Classification Report:',classification_report(y_test,x_test_pred))"
   ]
  },
  {
   "cell_type": "code",
   "execution_count": 42,
   "metadata": {},
   "outputs": [
    {
     "data": {
      "text/plain": [
       "array([[  1,   1,   0,   1,   0,   0],\n",
       "       [  0,   0,  12,   4,   0,   0],\n",
       "       [  1,   8, 115,  45,   4,   0],\n",
       "       [  0,   4,  72,  71,  14,   0],\n",
       "       [  0,   1,   7,  20,  21,   1],\n",
       "       [  0,   0,   0,   3,   2,   0]], dtype=int64)"
      ]
     },
     "execution_count": 42,
     "metadata": {},
     "output_type": "execute_result"
    }
   ],
   "source": [
    "# Confusion Matrix\n",
    "from sklearn.metrics import confusion_matrix\n",
    "\n",
    "cm = confusion_matrix(y_test, x_test_pred)\n",
    "cm"
   ]
  },
  {
   "cell_type": "code",
   "execution_count": 43,
   "metadata": {},
   "outputs": [
    {
     "data": {
      "image/png": "[encoded data removed]",
      "text/plain": [
       "<Figure size 432x288 with 1 Axes>"
      ]
     },
     "metadata": {
      "needs_background": "light"
     },
     "output_type": "display_data"
    }
   ],
   "source": [
    "#visualizing confusion matrix\n",
    "\n",
    "sns.heatmap(cm,annot=True,cbar=False,cmap='RdBu')\n",
    "plt.title('Confusion matrix',fontsize=15)\n",
    "plt.xlabel('Predicted Labels',fontsize = 12)\n",
    "plt.ylabel('True Labels',fontsize = 12)\n",
    "plt.xticks(ticks=np.arange(0.5,6.5),labels=[3,4,5,6,7,8])\n",
    "plt.yticks(ticks=np.arange(0.5,6.5),labels=[3,4,5,6,7,8])\n",
    "plt.show()"
   ]
  },
  {
   "cell_type": "code",
   "execution_count": 44,
   "metadata": {},
   "outputs": [
    {
     "name": "stdout",
     "output_type": "stream",
     "text": [
      "Tuned: {'algorithm': 'auto', 'n_neighbors': 19, 'p': 1, 'weights': 'distance'}\n",
      "Mean of the cv scores: 0.6056820060622762\n",
      "Train Score: 1.0\n",
      "Test Score: 0.5784313725490197\n"
     ]
    }
   ],
   "source": [
    "## Hyperparameter Tuning\n",
    "from sklearn.model_selection import GridSearchCV\n",
    "\n",
    "param_dict={'n_neighbors':range(1,30,2),\n",
    "            'p':[1,2],\n",
    "           'weights':['uniform', 'distance'],\n",
    "           'algorithm' : ['auto', 'ball_tree', 'kd_tree', 'brute']}\n",
    "knn=KNeighborsClassifier()\n",
    "gcv=GridSearchCV(knn,param_dict,cv=5)\n",
    "gcv.fit(x_train,y_train)\n",
    "print('Tuned:',gcv.best_params_)\n",
    "print(\"Mean of the cv scores:\",gcv.best_score_)\n",
    "print(\"Train Score:\",gcv.score(x_train,y_train))\n",
    "print(\"Test Score:\",gcv.score(x_test,y_test))"
   ]
  },
  {
   "cell_type": "markdown",
   "metadata": {},
   "source": [
    "# Evaluation\n",
    "\n",
    "- Select the best performing model and write your comments about why choose this model.\n",
    "- Analyse results and make comment about how you can improve model."
   ]
  },
  {
   "cell_type": "markdown",
   "metadata": {},
   "source": [
    "So among three algorithm with simple tuning parameters KNN works best in training and testing data.\n",
    "\n",
    "It has higher accuracy on train and test data comparing to Decision tree and Logistic Regression.\n",
    "\n",
    "Model can be improved by Hyperparameter tuning to select the best parameter"
   ]
  }
 ],
 "metadata": {
  "kernelspec": {
   "display_name": "Python 3",
   "language": "python",
   "name": "python3"
  },
  "language_info": {
   "codemirror_mode": {
    "name": "ipython",
    "version": 3
   },
   "file_extension": ".py",
   "mimetype": "text/x-python",
   "name": "python",
   "nbconvert_exporter": "python",
   "pygments_lexer": "ipython3",
   "version": "3.8.5"
  }
 },
 "nbformat": 4,
 "nbformat_minor": 4
}
